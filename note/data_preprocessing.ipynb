{
 "cells": [
  {
   "cell_type": "code",
   "execution_count": 15,
   "metadata": {},
   "outputs": [],
   "source": [
    "import numpy as np\n",
    "import glob\n",
    "from tqdm import tqdm"
   ]
  },
  {
   "cell_type": "code",
   "execution_count": 46,
   "metadata": {},
   "outputs": [
    {
     "name": "stderr",
     "output_type": "stream",
     "text": [
      " 30%|███       | 9605/31885 [04:59<11:35, 32.06it/s]\n"
     ]
    },
    {
     "ename": "KeyboardInterrupt",
     "evalue": "",
     "output_type": "error",
     "traceback": [
      "\u001b[0;31m---------------------------------------------------------------------------\u001b[0m",
      "\u001b[0;31mKeyboardInterrupt\u001b[0m                         Traceback (most recent call last)",
      "Cell \u001b[0;32mIn[46], line 12\u001b[0m\n\u001b[1;32m      9\u001b[0m \u001b[39mif\u001b[39;00m pdb\u001b[39m.\u001b[39mget_model_count() \u001b[39m>\u001b[39m \u001b[39m1\u001b[39m:\n\u001b[1;32m     10\u001b[0m     \u001b[39mcontinue\u001b[39;00m\n\u001b[0;32m---> 12\u001b[0m structure \u001b[39m=\u001b[39m pdb\u001b[39m.\u001b[39;49mget_structure()[\u001b[39m0\u001b[39m]\n\u001b[1;32m     13\u001b[0m \u001b[39mif\u001b[39;00m struc\u001b[39m.\u001b[39mget_residue_count(structure) \u001b[39m<\u001b[39m \u001b[39m40\u001b[39m:\n\u001b[1;32m     14\u001b[0m     \u001b[39mcontinue\u001b[39;00m\n",
      "File \u001b[0;32m/data/project/dohoon/miniconda3/envs/torch/lib/python3.10/site-packages/biotite/structure/io/pdb/file.py:506\u001b[0m, in \u001b[0;36mPDBFile.get_structure\u001b[0;34m(self, model, altloc, extra_fields, include_bonds)\u001b[0m\n\u001b[1;32m    504\u001b[0m         array\u001b[39m.\u001b[39mcoord[m, i, \u001b[39m0\u001b[39m] \u001b[39m=\u001b[39m \u001b[39mfloat\u001b[39m(line[_coord_x])\n\u001b[1;32m    505\u001b[0m         array\u001b[39m.\u001b[39mcoord[m, i, \u001b[39m1\u001b[39m] \u001b[39m=\u001b[39m \u001b[39mfloat\u001b[39m(line[_coord_y])\n\u001b[0;32m--> 506\u001b[0m         array\u001b[39m.\u001b[39;49mcoord[m, i, \u001b[39m2\u001b[39m] \u001b[39m=\u001b[39m \u001b[39mfloat\u001b[39m(line[_coord_z])\n\u001b[1;32m    507\u001b[0m         i \u001b[39m+\u001b[39m\u001b[39m=\u001b[39m \u001b[39m1\u001b[39m\n\u001b[1;32m    509\u001b[0m \u001b[39m# Fill in box vectors\u001b[39;00m\n\u001b[1;32m    510\u001b[0m \u001b[39m# PDB does not support changing box dimensions. CRYST1 is a one-time\u001b[39;00m\n\u001b[1;32m    511\u001b[0m \u001b[39m# record so we can extract it directly\u001b[39;00m\n",
      "File \u001b[0;32m/data/project/dohoon/miniconda3/envs/torch/lib/python3.10/site-packages/biotite/structure/atoms.py:256\u001b[0m, in \u001b[0;36m_AtomArrayBase.__getattr__\u001b[0;34m(self, attr)\u001b[0m\n\u001b[1;32m    240\u001b[0m     \u001b[39m\"\"\"\u001b[39;00m\n\u001b[1;32m    241\u001b[0m \u001b[39m    Check, if this object shares equal annotation array categories\u001b[39;00m\n\u001b[1;32m    242\u001b[0m \u001b[39m    with the given :class:`AtomArray` or :class:`AtomArrayStack`.\u001b[39;00m\n\u001b[0;32m   (...)\u001b[0m\n\u001b[1;32m    252\u001b[0m \u001b[39m        True, if the annotation array names are equal.\u001b[39;00m\n\u001b[1;32m    253\u001b[0m \u001b[39m    \"\"\"\u001b[39;00m\n\u001b[1;32m    254\u001b[0m     \u001b[39mreturn\u001b[39;00m \u001b[39msorted\u001b[39m(\u001b[39mself\u001b[39m\u001b[39m.\u001b[39m_annot\u001b[39m.\u001b[39mkeys()) \u001b[39m==\u001b[39m \u001b[39msorted\u001b[39m(item\u001b[39m.\u001b[39m_annot\u001b[39m.\u001b[39mkeys())\n\u001b[0;32m--> 256\u001b[0m \u001b[39mdef\u001b[39;00m \u001b[39m__getattr__\u001b[39m(\u001b[39mself\u001b[39m, attr):\n\u001b[1;32m    257\u001b[0m     \u001b[39m\"\"\"\u001b[39;00m\n\u001b[1;32m    258\u001b[0m \u001b[39m    If the attribute is an annotation, the annotation is returned\u001b[39;00m\n\u001b[1;32m    259\u001b[0m \u001b[39m    from the dictionary.\u001b[39;00m\n\u001b[1;32m    260\u001b[0m \u001b[39m    Exposes coordinates.\u001b[39;00m\n\u001b[1;32m    261\u001b[0m \u001b[39m    \"\"\"\u001b[39;00m\n\u001b[1;32m    262\u001b[0m     \u001b[39mif\u001b[39;00m attr \u001b[39m==\u001b[39m \u001b[39m\"\u001b[39m\u001b[39mcoord\u001b[39m\u001b[39m\"\u001b[39m:\n",
      "\u001b[0;31mKeyboardInterrupt\u001b[0m: "
     ]
    }
   ],
   "source": [
    "import biotite.structure as struc\n",
    "from biotite.structure.io.pdb import PDBFile\n",
    "import warnings; warnings.filterwarnings('ignore')\n",
    "\n",
    "cnt = 0\n",
    "for f in tqdm(glob.glob('../data/dompdb/*.pdb')):\n",
    "    pdb = PDBFile.read(f)\n",
    "\n",
    "    if pdb.get_model_count() > 1:\n",
    "        continue\n",
    "\n",
    "    structure = pdb.get_structure()[0]\n",
    "    if struc.get_residue_count(structure) < 40:\n",
    "        continue\n",
    "    \n",
    "    cnt += 1"
   ]
  },
  {
   "cell_type": "code",
   "execution_count": 1,
   "metadata": {},
   "outputs": [],
   "source": [
    "import biotite.structure as struc\n",
    "from biotite.structure.io.pdb import PDBFile"
   ]
  },
  {
   "cell_type": "code",
   "execution_count": 3,
   "metadata": {},
   "outputs": [],
   "source": [
    "pdb = PDBFile.read('../data/dompdb/12asA00.pdb')"
   ]
  },
  {
   "cell_type": "code",
   "execution_count": 5,
   "metadata": {},
   "outputs": [
    {
     "name": "stderr",
     "output_type": "stream",
     "text": [
      "/data/project/dohoon/miniconda3/envs/torch/lib/python3.10/site-packages/biotite/structure/io/pdb/file.py:484: UserWarning: 2559 elements were guessed from atom_name.\n",
      "  warnings.warn(\n"
     ]
    }
   ],
   "source": [
    "structure = pdb.get_structure()[0]"
   ]
  },
  {
   "cell_type": "code",
   "execution_count": 6,
   "metadata": {},
   "outputs": [
    {
     "name": "stderr",
     "output_type": "stream",
     "text": [
      "/data/project/dohoon/miniconda3/envs/torch/lib/python3.10/site-packages/biotite/structure/io/pdb/file.py:484: UserWarning: 2559 elements were guessed from atom_name.\n",
      "  warnings.warn(\n"
     ]
    }
   ],
   "source": [
    "structure2 = pdb.get_structure(model=1)"
   ]
  },
  {
   "cell_type": "code",
   "execution_count": 13,
   "metadata": {},
   "outputs": [],
   "source": [
    "phi, psi, omega = struc.dihedral_backbone(structure)"
   ]
  },
  {
   "cell_type": "code",
   "execution_count": 12,
   "metadata": {},
   "outputs": [
    {
     "data": {
      "text/plain": [
       "((327,), (327,), (327,))"
      ]
     },
     "execution_count": 12,
     "metadata": {},
     "output_type": "execute_result"
    }
   ],
   "source": [
    "phi.shape, psi.shape, omega.shape"
   ]
  },
  {
   "cell_type": "code",
   "execution_count": 15,
   "metadata": {},
   "outputs": [],
   "source": [
    "dihedrals = struc.dihedral_backbone(structure)"
   ]
  },
  {
   "cell_type": "code",
   "execution_count": 36,
   "metadata": {},
   "outputs": [
    {
     "data": {
      "text/plain": [
       "3.082345"
      ]
     },
     "execution_count": 36,
     "metadata": {},
     "output_type": "execute_result"
    }
   ],
   "source": [
    "phi[np.isfinite(phi)].max()"
   ]
  },
  {
   "cell_type": "code",
   "execution_count": 37,
   "metadata": {},
   "outputs": [
    {
     "ename": "ModuleNotFoundError",
     "evalue": "No module named 'matplotlib'",
     "output_type": "error",
     "traceback": [
      "\u001b[0;31m---------------------------------------------------------------------------\u001b[0m",
      "\u001b[0;31mModuleNotFoundError\u001b[0m                       Traceback (most recent call last)",
      "Cell \u001b[0;32mIn[37], line 1\u001b[0m\n\u001b[0;32m----> 1\u001b[0m \u001b[39mimport\u001b[39;00m \u001b[39mmatplotlib\u001b[39;00m\u001b[39m.\u001b[39;00m\u001b[39mpyplot\u001b[39;00m \u001b[39mas\u001b[39;00m \u001b[39mplt\u001b[39;00m\n",
      "\u001b[0;31mModuleNotFoundError\u001b[0m: No module named 'matplotlib'"
     ]
    }
   ],
   "source": [
    "import matplotlib.pyplot as plt"
   ]
  },
  {
   "cell_type": "code",
   "execution_count": 26,
   "metadata": {},
   "outputs": [],
   "source": [
    "backbone = structure[struc.filter_backbone(structure)]"
   ]
  },
  {
   "cell_type": "code",
   "execution_count": 30,
   "metadata": {},
   "outputs": [
    {
     "data": {
      "text/plain": [
       "array([1.928633 , 2.0286973], dtype=float32)"
      ]
     },
     "execution_count": 30,
     "metadata": {},
     "output_type": "execute_result"
    }
   ],
   "source": [
    "indices = np.array([[0, 1, 2], [1, 2, 3]])\n",
    "\n",
    "struc.index_angle(backbone, indices)"
   ]
  }
 ],
 "metadata": {
  "kernelspec": {
   "display_name": "torch",
   "language": "python",
   "name": "python3"
  },
  "language_info": {
   "codemirror_mode": {
    "name": "ipython",
    "version": 3
   },
   "file_extension": ".py",
   "mimetype": "text/x-python",
   "name": "python",
   "nbconvert_exporter": "python",
   "pygments_lexer": "ipython3",
   "version": "3.10.10"
  },
  "orig_nbformat": 4
 },
 "nbformat": 4,
 "nbformat_minor": 2
}
