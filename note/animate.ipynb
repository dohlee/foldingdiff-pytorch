{
 "cells": [
  {
   "cell_type": "code",
   "execution_count": 1,
   "metadata": {},
   "outputs": [],
   "source": [
    "import pymol"
   ]
  },
  {
   "cell_type": "markdown",
   "metadata": {},
   "source": [
    "### Convert PDB file to png, and collect png files to make gif"
   ]
  },
  {
   "cell_type": "code",
   "execution_count": 2,
   "metadata": {},
   "outputs": [],
   "source": [
    "def pdb2png(pdb, file):\n",
    "    \"\"\"Convert the pdb file into a png, returns output filename\"\"\"\n",
    "    # https://gist.github.com/bougui505/11401240\n",
    "    pymol.cmd.load(pdb)\n",
    "    pymol.cmd.show(\"cartoon\")\n",
    "    pymol.cmd.color(\"palegreen\")\n",
    "    pymol.cmd.bg_color(\"white\")\n",
    "    pymol.cmd.set(\"ray_opaque_background\", 1)\n",
    "    pymol.cmd.set(\"ray_trace_mode\", 1)\n",
    "    pymol.cmd.set(\"ray_trace_color\", \"black\")\n",
    "    pymol.cmd.set(\"ray_trace_gain\", 0.01)\n",
    "#     pymol.cmd.origin(position=[0.0, 0.0, 0.0])\n",
    "#     pymol.cmd.center(\"origin\")\n",
    "    pymol.cmd.png(file, ray=1, dpi=600)\n",
    "    pymol.cmd.zoom(\"origin\", 1)\n",
    "    pymol.cmd.delete(\"*\")\n",
    "    return file"
   ]
  },
  {
   "cell_type": "code",
   "execution_count": 52,
   "metadata": {},
   "outputs": [
    {
     "name": "stdout",
     "output_type": "stream",
     "text": [
      " Ray: render time: 1.17 sec. = 3064.1 frames/hour (5780.93 sec. accum.).\n"
     ]
    },
    {
     "data": {
      "text/plain": [
       "'denoising_demo_64res_batch/0/model_1000.png'"
      ]
     },
     "execution_count": 52,
     "metadata": {},
     "output_type": "execute_result"
    }
   ],
   "source": [
    "pdb2png(f'denoising_demo_64res_batch3/0/model_1000.pdb', f'denoising_demo_64res_batch2/0/model_1000.png')"
   ]
  },
  {
   "cell_type": "code",
   "execution_count": 21,
   "metadata": {
    "scrolled": true
   },
   "outputs": [
    {
     "name": "stderr",
     "output_type": "stream",
     "text": [
      "  1%|          | 1/126 [00:01<03:45,  1.81s/it]"
     ]
    },
    {
     "name": "stdout",
     "output_type": "stream",
     "text": [
      " Ray: render time: 1.72 sec. = 2094.5 frames/hour (6241.54 sec. accum.).\n"
     ]
    },
    {
     "name": "stderr",
     "output_type": "stream",
     "text": [
      "  2%|▏         | 2/126 [00:04<04:36,  2.23s/it]"
     ]
    },
    {
     "name": "stdout",
     "output_type": "stream",
     "text": [
      " Ray: render time: 2.38 sec. = 1510.4 frames/hour (6243.93 sec. accum.).\n"
     ]
    },
    {
     "name": "stderr",
     "output_type": "stream",
     "text": [
      "  2%|▏         | 3/126 [00:06<04:31,  2.20s/it]"
     ]
    },
    {
     "name": "stdout",
     "output_type": "stream",
     "text": [
      " Ray: render time: 2.08 sec. = 1734.1 frames/hour (6246.00 sec. accum.).\n"
     ]
    },
    {
     "name": "stderr",
     "output_type": "stream",
     "text": [
      "  3%|▎         | 4/126 [00:08<04:11,  2.06s/it]"
     ]
    },
    {
     "name": "stdout",
     "output_type": "stream",
     "text": [
      " Ray: render time: 1.77 sec. = 2039.5 frames/hour (6247.77 sec. accum.).\n"
     ]
    },
    {
     "name": "stderr",
     "output_type": "stream",
     "text": [
      "  4%|▍         | 5/126 [00:10<04:20,  2.15s/it]"
     ]
    },
    {
     "name": "stdout",
     "output_type": "stream",
     "text": [
      " Ray: render time: 2.19 sec. = 1641.9 frames/hour (6249.96 sec. accum.).\n"
     ]
    },
    {
     "name": "stderr",
     "output_type": "stream",
     "text": [
      "  5%|▍         | 6/126 [00:12<03:53,  1.94s/it]"
     ]
    },
    {
     "name": "stdout",
     "output_type": "stream",
     "text": [
      " Ray: render time: 1.43 sec. = 2515.7 frames/hour (6251.39 sec. accum.).\n"
     ]
    },
    {
     "name": "stderr",
     "output_type": "stream",
     "text": [
      "  6%|▌         | 7/126 [00:14<03:47,  1.91s/it]"
     ]
    },
    {
     "name": "stdout",
     "output_type": "stream",
     "text": [
      " Ray: render time: 1.77 sec. = 2037.2 frames/hour (6253.16 sec. accum.).\n"
     ]
    },
    {
     "name": "stderr",
     "output_type": "stream",
     "text": [
      "  6%|▋         | 8/126 [00:15<03:26,  1.75s/it]"
     ]
    },
    {
     "name": "stdout",
     "output_type": "stream",
     "text": [
      " Ray: render time: 1.32 sec. = 2727.3 frames/hour (6254.48 sec. accum.).\n"
     ]
    },
    {
     "name": "stderr",
     "output_type": "stream",
     "text": [
      "  7%|▋         | 9/126 [00:17<03:35,  1.84s/it]"
     ]
    },
    {
     "name": "stdout",
     "output_type": "stream",
     "text": [
      " Ray: render time: 1.93 sec. = 1860.9 frames/hour (6256.41 sec. accum.).\n"
     ]
    },
    {
     "name": "stderr",
     "output_type": "stream",
     "text": [
      "  8%|▊         | 10/126 [00:19<03:26,  1.78s/it]"
     ]
    },
    {
     "name": "stdout",
     "output_type": "stream",
     "text": [
      " Ray: render time: 1.56 sec. = 2300.4 frames/hour (6257.98 sec. accum.).\n"
     ]
    },
    {
     "name": "stderr",
     "output_type": "stream",
     "text": [
      "  9%|▊         | 11/126 [00:20<03:23,  1.77s/it]"
     ]
    },
    {
     "name": "stdout",
     "output_type": "stream",
     "text": [
      " Ray: render time: 1.66 sec. = 2170.6 frames/hour (6259.64 sec. accum.).\n"
     ]
    },
    {
     "name": "stderr",
     "output_type": "stream",
     "text": [
      " 10%|▉         | 12/126 [00:23<03:40,  1.93s/it]"
     ]
    },
    {
     "name": "stdout",
     "output_type": "stream",
     "text": [
      " Ray: render time: 2.20 sec. = 1637.4 frames/hour (6261.83 sec. accum.).\n"
     ]
    },
    {
     "name": "stderr",
     "output_type": "stream",
     "text": [
      " 10%|█         | 13/126 [00:25<03:37,  1.93s/it]"
     ]
    },
    {
     "name": "stdout",
     "output_type": "stream",
     "text": [
      " Ray: render time: 1.81 sec. = 1989.0 frames/hour (6263.64 sec. accum.).\n"
     ]
    },
    {
     "name": "stderr",
     "output_type": "stream",
     "text": [
      " 11%|█         | 14/126 [00:27<03:53,  2.08s/it]"
     ]
    },
    {
     "name": "stdout",
     "output_type": "stream",
     "text": [
      " Ray: render time: 2.36 sec. = 1528.3 frames/hour (6266.00 sec. accum.).\n"
     ]
    },
    {
     "name": "stderr",
     "output_type": "stream",
     "text": [
      " 12%|█▏        | 15/126 [00:30<04:10,  2.25s/it]"
     ]
    },
    {
     "name": "stdout",
     "output_type": "stream",
     "text": [
      " Ray: render time: 2.54 sec. = 1414.8 frames/hour (6268.54 sec. accum.).\n"
     ]
    },
    {
     "name": "stderr",
     "output_type": "stream",
     "text": [
      " 13%|█▎        | 16/126 [00:32<04:02,  2.20s/it]"
     ]
    },
    {
     "name": "stdout",
     "output_type": "stream",
     "text": [
      " Ray: render time: 1.99 sec. = 1811.7 frames/hour (6270.53 sec. accum.).\n"
     ]
    },
    {
     "name": "stderr",
     "output_type": "stream",
     "text": [
      " 13%|█▎        | 17/126 [00:34<03:50,  2.11s/it]"
     ]
    },
    {
     "name": "stdout",
     "output_type": "stream",
     "text": [
      " Ray: render time: 1.80 sec. = 1998.0 frames/hour (6272.33 sec. accum.).\n"
     ]
    },
    {
     "name": "stderr",
     "output_type": "stream",
     "text": [
      " 14%|█▍        | 18/126 [00:36<03:43,  2.07s/it]"
     ]
    },
    {
     "name": "stdout",
     "output_type": "stream",
     "text": [
      " Ray: render time: 1.87 sec. = 1926.4 frames/hour (6274.20 sec. accum.).\n"
     ]
    },
    {
     "name": "stderr",
     "output_type": "stream",
     "text": [
      " 15%|█▌        | 19/126 [00:37<03:16,  1.83s/it]"
     ]
    },
    {
     "name": "stdout",
     "output_type": "stream",
     "text": [
      " Ray: render time: 1.19 sec. = 3017.6 frames/hour (6275.40 sec. accum.).\n"
     ]
    },
    {
     "name": "stderr",
     "output_type": "stream",
     "text": [
      " 16%|█▌        | 20/126 [00:39<03:21,  1.90s/it]"
     ]
    },
    {
     "name": "stdout",
     "output_type": "stream",
     "text": [
      " Ray: render time: 1.98 sec. = 1817.1 frames/hour (6277.38 sec. accum.).\n"
     ]
    },
    {
     "name": "stderr",
     "output_type": "stream",
     "text": [
      " 17%|█▋        | 21/126 [00:42<03:45,  2.15s/it]"
     ]
    },
    {
     "name": "stdout",
     "output_type": "stream",
     "text": [
      " Ray: render time: 2.61 sec. = 1378.8 frames/hour (6279.99 sec. accum.).\n"
     ]
    },
    {
     "name": "stderr",
     "output_type": "stream",
     "text": [
      " 17%|█▋        | 22/126 [00:44<03:40,  2.12s/it]"
     ]
    },
    {
     "name": "stdout",
     "output_type": "stream",
     "text": [
      " Ray: render time: 1.95 sec. = 1845.9 frames/hour (6281.94 sec. accum.).\n"
     ]
    },
    {
     "name": "stderr",
     "output_type": "stream",
     "text": [
      " 18%|█▊        | 23/126 [00:46<03:38,  2.12s/it]"
     ]
    },
    {
     "name": "stdout",
     "output_type": "stream",
     "text": [
      " Ray: render time: 2.04 sec. = 1761.2 frames/hour (6283.98 sec. accum.).\n"
     ]
    },
    {
     "name": "stderr",
     "output_type": "stream",
     "text": [
      " 19%|█▉        | 24/126 [00:49<03:54,  2.30s/it]"
     ]
    },
    {
     "name": "stdout",
     "output_type": "stream",
     "text": [
      " Ray: render time: 2.60 sec. = 1385.2 frames/hour (6286.58 sec. accum.).\n"
     ]
    },
    {
     "name": "stderr",
     "output_type": "stream",
     "text": [
      " 20%|█▉        | 25/126 [00:52<04:10,  2.48s/it]"
     ]
    },
    {
     "name": "stdout",
     "output_type": "stream",
     "text": [
      " Ray: render time: 2.77 sec. = 1298.0 frames/hour (6289.35 sec. accum.).\n"
     ]
    },
    {
     "name": "stderr",
     "output_type": "stream",
     "text": [
      " 21%|██        | 26/126 [00:53<03:38,  2.18s/it]"
     ]
    },
    {
     "name": "stdout",
     "output_type": "stream",
     "text": [
      " Ray: render time: 1.44 sec. = 2503.6 frames/hour (6290.79 sec. accum.).\n"
     ]
    },
    {
     "name": "stderr",
     "output_type": "stream",
     "text": [
      " 21%|██▏       | 27/126 [00:55<03:17,  2.00s/it]"
     ]
    },
    {
     "name": "stdout",
     "output_type": "stream",
     "text": [
      " Ray: render time: 1.50 sec. = 2400.2 frames/hour (6292.29 sec. accum.).\n"
     ]
    },
    {
     "name": "stderr",
     "output_type": "stream",
     "text": [
      " 22%|██▏       | 28/126 [00:56<03:06,  1.90s/it]"
     ]
    },
    {
     "name": "stdout",
     "output_type": "stream",
     "text": [
      " Ray: render time: 1.62 sec. = 2224.5 frames/hour (6293.91 sec. accum.).\n"
     ]
    },
    {
     "name": "stderr",
     "output_type": "stream",
     "text": [
      " 23%|██▎       | 29/126 [00:58<02:56,  1.82s/it]"
     ]
    },
    {
     "name": "stdout",
     "output_type": "stream",
     "text": [
      " Ray: render time: 1.57 sec. = 2299.1 frames/hour (6295.48 sec. accum.).\n"
     ]
    },
    {
     "name": "stderr",
     "output_type": "stream",
     "text": [
      " 24%|██▍       | 30/126 [00:59<02:47,  1.74s/it]"
     ]
    },
    {
     "name": "stdout",
     "output_type": "stream",
     "text": [
      " Ray: render time: 1.48 sec. = 2427.0 frames/hour (6296.96 sec. accum.).\n"
     ]
    },
    {
     "name": "stderr",
     "output_type": "stream",
     "text": [
      " 25%|██▍       | 31/126 [01:01<02:38,  1.66s/it]"
     ]
    },
    {
     "name": "stdout",
     "output_type": "stream",
     "text": [
      " Ray: render time: 1.43 sec. = 2522.0 frames/hour (6298.39 sec. accum.).\n"
     ]
    },
    {
     "name": "stderr",
     "output_type": "stream",
     "text": [
      " 25%|██▌       | 32/126 [01:02<02:33,  1.63s/it]"
     ]
    },
    {
     "name": "stdout",
     "output_type": "stream",
     "text": [
      " Ray: render time: 1.49 sec. = 2419.9 frames/hour (6299.87 sec. accum.).\n"
     ]
    },
    {
     "name": "stderr",
     "output_type": "stream",
     "text": [
      " 26%|██▌       | 33/126 [01:04<02:30,  1.62s/it]"
     ]
    },
    {
     "name": "stdout",
     "output_type": "stream",
     "text": [
      " Ray: render time: 1.53 sec. = 2359.6 frames/hour (6301.40 sec. accum.).\n"
     ]
    },
    {
     "name": "stderr",
     "output_type": "stream",
     "text": [
      " 27%|██▋       | 34/126 [01:06<02:31,  1.65s/it]"
     ]
    },
    {
     "name": "stdout",
     "output_type": "stream",
     "text": [
      " Ray: render time: 1.66 sec. = 2170.4 frames/hour (6303.06 sec. accum.).\n"
     ]
    },
    {
     "name": "stderr",
     "output_type": "stream",
     "text": [
      " 28%|██▊       | 35/126 [01:07<02:25,  1.60s/it]"
     ]
    },
    {
     "name": "stdout",
     "output_type": "stream",
     "text": [
      " Ray: render time: 1.44 sec. = 2500.0 frames/hour (6304.50 sec. accum.).\n"
     ]
    },
    {
     "name": "stderr",
     "output_type": "stream",
     "text": [
      " 29%|██▊       | 36/126 [01:09<02:18,  1.53s/it]"
     ]
    },
    {
     "name": "stdout",
     "output_type": "stream",
     "text": [
      " Ray: render time: 1.30 sec. = 2764.5 frames/hour (6305.80 sec. accum.).\n"
     ]
    },
    {
     "name": "stderr",
     "output_type": "stream",
     "text": [
      " 29%|██▉       | 37/126 [01:10<02:13,  1.50s/it]"
     ]
    },
    {
     "name": "stdout",
     "output_type": "stream",
     "text": [
      " Ray: render time: 1.36 sec. = 2641.6 frames/hour (6307.16 sec. accum.).\n"
     ]
    },
    {
     "name": "stderr",
     "output_type": "stream",
     "text": [
      " 30%|███       | 38/126 [01:11<02:08,  1.47s/it]"
     ]
    },
    {
     "name": "stdout",
     "output_type": "stream",
     "text": [
      " Ray: render time: 1.32 sec. = 2735.4 frames/hour (6308.48 sec. accum.).\n"
     ]
    },
    {
     "name": "stderr",
     "output_type": "stream",
     "text": [
      " 31%|███       | 39/126 [01:13<02:07,  1.46s/it]"
     ]
    },
    {
     "name": "stdout",
     "output_type": "stream",
     "text": [
      " Ray: render time: 1.39 sec. = 2580.7 frames/hour (6309.88 sec. accum.).\n"
     ]
    },
    {
     "name": "stderr",
     "output_type": "stream",
     "text": [
      " 32%|███▏      | 40/126 [01:14<02:04,  1.45s/it]"
     ]
    },
    {
     "name": "stdout",
     "output_type": "stream",
     "text": [
      " Ray: render time: 1.37 sec. = 2635.5 frames/hour (6311.24 sec. accum.).\n"
     ]
    },
    {
     "name": "stderr",
     "output_type": "stream",
     "text": [
      " 33%|███▎      | 41/126 [01:16<02:06,  1.49s/it]"
     ]
    },
    {
     "name": "stdout",
     "output_type": "stream",
     "text": [
      " Ray: render time: 1.51 sec. = 2377.8 frames/hour (6312.76 sec. accum.).\n"
     ]
    },
    {
     "name": "stderr",
     "output_type": "stream",
     "text": [
      " 33%|███▎      | 42/126 [01:18<02:09,  1.55s/it]"
     ]
    },
    {
     "name": "stdout",
     "output_type": "stream",
     "text": [
      " Ray: render time: 1.60 sec. = 2245.5 frames/hour (6314.36 sec. accum.).\n"
     ]
    },
    {
     "name": "stderr",
     "output_type": "stream",
     "text": [
      " 34%|███▍      | 43/126 [01:19<02:14,  1.62s/it]"
     ]
    },
    {
     "name": "stdout",
     "output_type": "stream",
     "text": [
      " Ray: render time: 1.71 sec. = 2102.9 frames/hour (6316.07 sec. accum.).\n"
     ]
    },
    {
     "name": "stderr",
     "output_type": "stream",
     "text": [
      " 35%|███▍      | 44/126 [01:21<02:08,  1.57s/it]"
     ]
    },
    {
     "name": "stdout",
     "output_type": "stream",
     "text": [
      " Ray: render time: 1.41 sec. = 2551.9 frames/hour (6317.48 sec. accum.).\n"
     ]
    },
    {
     "name": "stderr",
     "output_type": "stream",
     "text": [
      " 36%|███▌      | 45/126 [01:22<02:02,  1.51s/it]"
     ]
    },
    {
     "name": "stdout",
     "output_type": "stream",
     "text": [
      " Ray: render time: 1.30 sec. = 2769.1 frames/hour (6318.78 sec. accum.).\n"
     ]
    },
    {
     "name": "stderr",
     "output_type": "stream",
     "text": [
      " 37%|███▋      | 46/126 [01:24<01:56,  1.46s/it]"
     ]
    },
    {
     "name": "stdout",
     "output_type": "stream",
     "text": [
      " Ray: render time: 1.26 sec. = 2846.0 frames/hour (6320.05 sec. accum.).\n"
     ]
    },
    {
     "name": "stderr",
     "output_type": "stream",
     "text": [
      " 37%|███▋      | 47/126 [01:25<01:53,  1.44s/it]"
     ]
    },
    {
     "name": "stdout",
     "output_type": "stream",
     "text": [
      " Ray: render time: 1.33 sec. = 2706.9 frames/hour (6321.38 sec. accum.).\n"
     ]
    },
    {
     "name": "stderr",
     "output_type": "stream",
     "text": [
      " 38%|███▊      | 48/126 [01:26<01:50,  1.42s/it]"
     ]
    },
    {
     "name": "stdout",
     "output_type": "stream",
     "text": [
      " Ray: render time: 1.30 sec. = 2779.5 frames/hour (6322.67 sec. accum.).\n"
     ]
    },
    {
     "name": "stderr",
     "output_type": "stream",
     "text": [
      " 39%|███▉      | 49/126 [01:28<01:48,  1.41s/it]"
     ]
    },
    {
     "name": "stdout",
     "output_type": "stream",
     "text": [
      " Ray: render time: 1.33 sec. = 2711.3 frames/hour (6324.00 sec. accum.).\n"
     ]
    },
    {
     "name": "stderr",
     "output_type": "stream",
     "text": [
      " 40%|███▉      | 50/126 [01:29<01:47,  1.41s/it]"
     ]
    },
    {
     "name": "stdout",
     "output_type": "stream",
     "text": [
      " Ray: render time: 1.36 sec. = 2649.1 frames/hour (6325.36 sec. accum.).\n"
     ]
    },
    {
     "name": "stderr",
     "output_type": "stream",
     "text": [
      " 40%|████      | 51/126 [01:30<01:44,  1.39s/it]"
     ]
    },
    {
     "name": "stdout",
     "output_type": "stream",
     "text": [
      " Ray: render time: 1.28 sec. = 2807.4 frames/hour (6326.64 sec. accum.).\n"
     ]
    },
    {
     "name": "stderr",
     "output_type": "stream",
     "text": [
      " 41%|████▏     | 52/126 [01:32<01:40,  1.36s/it]"
     ]
    },
    {
     "name": "stdout",
     "output_type": "stream",
     "text": [
      " Ray: render time: 1.21 sec. = 2964.9 frames/hour (6327.85 sec. accum.).\n"
     ]
    },
    {
     "name": "stderr",
     "output_type": "stream",
     "text": [
      " 42%|████▏     | 53/126 [01:33<01:36,  1.33s/it]"
     ]
    },
    {
     "name": "stdout",
     "output_type": "stream",
     "text": [
      " Ray: render time: 1.19 sec. = 3022.5 frames/hour (6329.05 sec. accum.).\n"
     ]
    },
    {
     "name": "stderr",
     "output_type": "stream",
     "text": [
      " 43%|████▎     | 54/126 [01:34<01:33,  1.30s/it]"
     ]
    },
    {
     "name": "stdout",
     "output_type": "stream",
     "text": [
      " Ray: render time: 1.18 sec. = 3057.6 frames/hour (6330.22 sec. accum.).\n"
     ]
    },
    {
     "name": "stderr",
     "output_type": "stream",
     "text": [
      " 44%|████▎     | 55/126 [01:35<01:30,  1.28s/it]"
     ]
    },
    {
     "name": "stdout",
     "output_type": "stream",
     "text": [
      " Ray: render time: 1.16 sec. = 3111.0 frames/hour (6331.38 sec. accum.).\n"
     ]
    },
    {
     "name": "stderr",
     "output_type": "stream",
     "text": [
      " 44%|████▍     | 56/126 [01:37<01:27,  1.25s/it]"
     ]
    },
    {
     "name": "stdout",
     "output_type": "stream",
     "text": [
      " Ray: render time: 1.15 sec. = 3132.9 frames/hour (6332.53 sec. accum.).\n"
     ]
    },
    {
     "name": "stderr",
     "output_type": "stream",
     "text": [
      " 45%|████▌     | 57/126 [01:38<01:24,  1.23s/it]"
     ]
    },
    {
     "name": "stdout",
     "output_type": "stream",
     "text": [
      " Ray: render time: 1.11 sec. = 3244.5 frames/hour (6333.64 sec. accum.).\n"
     ]
    },
    {
     "name": "stderr",
     "output_type": "stream",
     "text": [
      " 46%|████▌     | 58/126 [01:39<01:23,  1.23s/it]"
     ]
    },
    {
     "name": "stdout",
     "output_type": "stream",
     "text": [
      " Ray: render time: 1.15 sec. = 3127.3 frames/hour (6334.79 sec. accum.).\n"
     ]
    },
    {
     "name": "stderr",
     "output_type": "stream",
     "text": [
      " 47%|████▋     | 59/126 [01:40<01:20,  1.21s/it]"
     ]
    },
    {
     "name": "stdout",
     "output_type": "stream",
     "text": [
      " Ray: render time: 1.11 sec. = 3231.3 frames/hour (6335.90 sec. accum.).\n"
     ]
    },
    {
     "name": "stderr",
     "output_type": "stream",
     "text": [
      " 48%|████▊     | 60/126 [01:41<01:20,  1.21s/it]"
     ]
    },
    {
     "name": "stdout",
     "output_type": "stream",
     "text": [
      " Ray: render time: 1.17 sec. = 3077.4 frames/hour (6337.07 sec. accum.).\n"
     ]
    },
    {
     "name": "stderr",
     "output_type": "stream",
     "text": [
      " 48%|████▊     | 61/126 [01:43<01:21,  1.26s/it]"
     ]
    },
    {
     "name": "stdout",
     "output_type": "stream",
     "text": [
      " Ray: render time: 1.31 sec. = 2757.7 frames/hour (6338.38 sec. accum.).\n"
     ]
    },
    {
     "name": "stderr",
     "output_type": "stream",
     "text": [
      " 49%|████▉     | 62/126 [01:44<01:21,  1.27s/it]"
     ]
    },
    {
     "name": "stdout",
     "output_type": "stream",
     "text": [
      " Ray: render time: 1.23 sec. = 2931.5 frames/hour (6339.61 sec. accum.).\n"
     ]
    },
    {
     "name": "stderr",
     "output_type": "stream",
     "text": [
      " 50%|█████     | 63/126 [01:45<01:20,  1.29s/it]"
     ]
    },
    {
     "name": "stdout",
     "output_type": "stream",
     "text": [
      " Ray: render time: 1.26 sec. = 2847.2 frames/hour (6340.87 sec. accum.).\n"
     ]
    },
    {
     "name": "stderr",
     "output_type": "stream",
     "text": [
      " 51%|█████     | 64/126 [01:47<01:21,  1.31s/it]"
     ]
    },
    {
     "name": "stdout",
     "output_type": "stream",
     "text": [
      " Ray: render time: 1.30 sec. = 2774.9 frames/hour (6342.17 sec. accum.).\n"
     ]
    },
    {
     "name": "stderr",
     "output_type": "stream",
     "text": [
      " 52%|█████▏    | 65/126 [01:48<01:21,  1.34s/it]"
     ]
    },
    {
     "name": "stdout",
     "output_type": "stream",
     "text": [
      " Ray: render time: 1.36 sec. = 2655.5 frames/hour (6343.52 sec. accum.).\n"
     ]
    },
    {
     "name": "stderr",
     "output_type": "stream",
     "text": [
      " 52%|█████▏    | 66/126 [01:50<01:22,  1.37s/it]"
     ]
    },
    {
     "name": "stdout",
     "output_type": "stream",
     "text": [
      " Ray: render time: 1.39 sec. = 2595.8 frames/hour (6344.91 sec. accum.).\n"
     ]
    },
    {
     "name": "stderr",
     "output_type": "stream",
     "text": [
      " 53%|█████▎    | 67/126 [01:51<01:22,  1.40s/it]"
     ]
    },
    {
     "name": "stdout",
     "output_type": "stream",
     "text": [
      " Ray: render time: 1.39 sec. = 2583.3 frames/hour (6346.31 sec. accum.).\n"
     ]
    },
    {
     "name": "stderr",
     "output_type": "stream",
     "text": [
      " 54%|█████▍    | 68/126 [01:53<01:21,  1.41s/it]"
     ]
    },
    {
     "name": "stdout",
     "output_type": "stream",
     "text": [
      " Ray: render time: 1.39 sec. = 2588.6 frames/hour (6347.70 sec. accum.).\n"
     ]
    },
    {
     "name": "stderr",
     "output_type": "stream",
     "text": [
      " 55%|█████▍    | 69/126 [01:54<01:24,  1.47s/it]"
     ]
    },
    {
     "name": "stdout",
     "output_type": "stream",
     "text": [
      " Ray: render time: 1.56 sec. = 2301.9 frames/hour (6349.26 sec. accum.).\n"
     ]
    },
    {
     "name": "stderr",
     "output_type": "stream",
     "text": [
      " 56%|█████▌    | 70/126 [01:56<01:22,  1.48s/it]"
     ]
    },
    {
     "name": "stdout",
     "output_type": "stream",
     "text": [
      " Ray: render time: 1.43 sec. = 2520.4 frames/hour (6350.69 sec. accum.).\n"
     ]
    },
    {
     "name": "stderr",
     "output_type": "stream",
     "text": [
      " 56%|█████▋    | 71/126 [01:57<01:21,  1.49s/it]"
     ]
    },
    {
     "name": "stdout",
     "output_type": "stream",
     "text": [
      " Ray: render time: 1.44 sec. = 2493.8 frames/hour (6352.13 sec. accum.).\n"
     ]
    },
    {
     "name": "stderr",
     "output_type": "stream",
     "text": [
      " 57%|█████▋    | 72/126 [01:59<01:20,  1.49s/it]"
     ]
    },
    {
     "name": "stdout",
     "output_type": "stream",
     "text": [
      " Ray: render time: 1.44 sec. = 2499.9 frames/hour (6353.57 sec. accum.).\n"
     ]
    },
    {
     "name": "stderr",
     "output_type": "stream",
     "text": [
      " 58%|█████▊    | 73/126 [02:00<01:19,  1.51s/it]"
     ]
    },
    {
     "name": "stdout",
     "output_type": "stream",
     "text": [
      " Ray: render time: 1.49 sec. = 2415.2 frames/hour (6355.06 sec. accum.).\n"
     ]
    },
    {
     "name": "stderr",
     "output_type": "stream",
     "text": [
      " 59%|█████▊    | 74/126 [02:02<01:19,  1.54s/it]"
     ]
    },
    {
     "name": "stdout",
     "output_type": "stream",
     "text": [
      " Ray: render time: 1.54 sec. = 2343.7 frames/hour (6356.60 sec. accum.).\n"
     ]
    },
    {
     "name": "stderr",
     "output_type": "stream",
     "text": [
      " 60%|█████▉    | 75/126 [02:03<01:19,  1.55s/it]"
     ]
    },
    {
     "name": "stdout",
     "output_type": "stream",
     "text": [
      " Ray: render time: 1.51 sec. = 2383.7 frames/hour (6358.11 sec. accum.).\n"
     ]
    },
    {
     "name": "stderr",
     "output_type": "stream",
     "text": [
      " 60%|██████    | 76/126 [02:05<01:17,  1.54s/it]"
     ]
    },
    {
     "name": "stdout",
     "output_type": "stream",
     "text": [
      " Ray: render time: 1.47 sec. = 2444.4 frames/hour (6359.58 sec. accum.).\n"
     ]
    },
    {
     "name": "stderr",
     "output_type": "stream",
     "text": [
      " 61%|██████    | 77/126 [02:07<01:16,  1.56s/it]"
     ]
    },
    {
     "name": "stdout",
     "output_type": "stream",
     "text": [
      " Ray: render time: 1.51 sec. = 2389.0 frames/hour (6361.09 sec. accum.).\n"
     ]
    },
    {
     "name": "stderr",
     "output_type": "stream",
     "text": [
      " 62%|██████▏   | 78/126 [02:08<01:15,  1.56s/it]"
     ]
    },
    {
     "name": "stdout",
     "output_type": "stream",
     "text": [
      " Ray: render time: 1.52 sec. = 2374.9 frames/hour (6362.60 sec. accum.).\n"
     ]
    },
    {
     "name": "stderr",
     "output_type": "stream",
     "text": [
      " 63%|██████▎   | 79/126 [02:10<01:16,  1.63s/it]"
     ]
    },
    {
     "name": "stdout",
     "output_type": "stream",
     "text": [
      " Ray: render time: 1.73 sec. = 2086.9 frames/hour (6364.33 sec. accum.).\n"
     ]
    },
    {
     "name": "stderr",
     "output_type": "stream",
     "text": [
      " 63%|██████▎   | 80/126 [02:12<01:17,  1.69s/it]"
     ]
    },
    {
     "name": "stdout",
     "output_type": "stream",
     "text": [
      " Ray: render time: 1.78 sec. = 2019.0 frames/hour (6366.11 sec. accum.).\n"
     ]
    },
    {
     "name": "stderr",
     "output_type": "stream",
     "text": [
      " 64%|██████▍   | 81/126 [02:14<01:18,  1.75s/it]"
     ]
    },
    {
     "name": "stdout",
     "output_type": "stream",
     "text": [
      " Ray: render time: 1.83 sec. = 1968.0 frames/hour (6367.94 sec. accum.).\n"
     ]
    },
    {
     "name": "stderr",
     "output_type": "stream",
     "text": [
      " 65%|██████▌   | 82/126 [02:16<01:18,  1.79s/it]"
     ]
    },
    {
     "name": "stdout",
     "output_type": "stream",
     "text": [
      " Ray: render time: 1.83 sec. = 1972.6 frames/hour (6369.77 sec. accum.).\n"
     ]
    },
    {
     "name": "stderr",
     "output_type": "stream",
     "text": [
      " 66%|██████▌   | 83/126 [02:17<01:17,  1.81s/it]"
     ]
    },
    {
     "name": "stdout",
     "output_type": "stream",
     "text": [
      " Ray: render time: 1.78 sec. = 2027.3 frames/hour (6371.54 sec. accum.).\n"
     ]
    },
    {
     "name": "stderr",
     "output_type": "stream",
     "text": [
      " 67%|██████▋   | 84/126 [02:19<01:15,  1.80s/it]"
     ]
    },
    {
     "name": "stdout",
     "output_type": "stream",
     "text": [
      " Ray: render time: 1.70 sec. = 2111.9 frames/hour (6373.25 sec. accum.).\n"
     ]
    },
    {
     "name": "stderr",
     "output_type": "stream",
     "text": [
      " 67%|██████▋   | 85/126 [02:21<01:12,  1.76s/it]"
     ]
    },
    {
     "name": "stdout",
     "output_type": "stream",
     "text": [
      " Ray: render time: 1.63 sec. = 2211.3 frames/hour (6374.87 sec. accum.).\n"
     ]
    },
    {
     "name": "stderr",
     "output_type": "stream",
     "text": [
      " 68%|██████▊   | 86/126 [02:23<01:10,  1.77s/it]"
     ]
    },
    {
     "name": "stdout",
     "output_type": "stream",
     "text": [
      " Ray: render time: 1.72 sec. = 2096.8 frames/hour (6376.59 sec. accum.).\n"
     ]
    },
    {
     "name": "stderr",
     "output_type": "stream",
     "text": [
      " 69%|██████▉   | 87/126 [02:24<01:06,  1.70s/it]"
     ]
    },
    {
     "name": "stdout",
     "output_type": "stream",
     "text": [
      " Ray: render time: 1.47 sec. = 2442.1 frames/hour (6378.07 sec. accum.).\n"
     ]
    },
    {
     "name": "stderr",
     "output_type": "stream",
     "text": [
      " 70%|██████▉   | 88/126 [02:26<01:03,  1.67s/it]"
     ]
    },
    {
     "name": "stdout",
     "output_type": "stream",
     "text": [
      " Ray: render time: 1.52 sec. = 2367.0 frames/hour (6379.59 sec. accum.).\n"
     ]
    },
    {
     "name": "stderr",
     "output_type": "stream",
     "text": [
      " 71%|███████   | 89/126 [02:27<01:00,  1.63s/it]"
     ]
    },
    {
     "name": "stdout",
     "output_type": "stream",
     "text": [
      " Ray: render time: 1.48 sec. = 2427.3 frames/hour (6381.07 sec. accum.).\n"
     ]
    },
    {
     "name": "stderr",
     "output_type": "stream",
     "text": [
      " 71%|███████▏  | 90/126 [02:29<00:58,  1.63s/it]"
     ]
    },
    {
     "name": "stdout",
     "output_type": "stream",
     "text": [
      " Ray: render time: 1.56 sec. = 2312.5 frames/hour (6382.63 sec. accum.).\n"
     ]
    },
    {
     "name": "stderr",
     "output_type": "stream",
     "text": [
      " 72%|███████▏  | 91/126 [02:31<00:57,  1.65s/it]"
     ]
    },
    {
     "name": "stdout",
     "output_type": "stream",
     "text": [
      " Ray: render time: 1.64 sec. = 2194.3 frames/hour (6384.27 sec. accum.).\n"
     ]
    },
    {
     "name": "stderr",
     "output_type": "stream",
     "text": [
      " 73%|███████▎  | 92/126 [02:32<00:56,  1.66s/it]"
     ]
    },
    {
     "name": "stdout",
     "output_type": "stream",
     "text": [
      " Ray: render time: 1.61 sec. = 2241.6 frames/hour (6385.87 sec. accum.).\n"
     ]
    },
    {
     "name": "stderr",
     "output_type": "stream",
     "text": [
      " 74%|███████▍  | 93/126 [02:34<00:54,  1.66s/it]"
     ]
    },
    {
     "name": "stdout",
     "output_type": "stream",
     "text": [
      " Ray: render time: 1.59 sec. = 2271.1 frames/hour (6387.46 sec. accum.).\n"
     ]
    },
    {
     "name": "stderr",
     "output_type": "stream",
     "text": [
      " 75%|███████▍  | 94/126 [02:35<00:52,  1.63s/it]"
     ]
    },
    {
     "name": "stdout",
     "output_type": "stream",
     "text": [
      " Ray: render time: 1.52 sec. = 2370.1 frames/hour (6388.98 sec. accum.).\n"
     ]
    },
    {
     "name": "stderr",
     "output_type": "stream",
     "text": [
      " 75%|███████▌  | 95/126 [02:37<00:50,  1.63s/it]"
     ]
    },
    {
     "name": "stdout",
     "output_type": "stream",
     "text": [
      " Ray: render time: 1.57 sec. = 2290.4 frames/hour (6390.55 sec. accum.).\n"
     ]
    },
    {
     "name": "stderr",
     "output_type": "stream",
     "text": [
      " 76%|███████▌  | 96/126 [02:39<00:48,  1.61s/it]"
     ]
    },
    {
     "name": "stdout",
     "output_type": "stream",
     "text": [
      " Ray: render time: 1.50 sec. = 2399.0 frames/hour (6392.05 sec. accum.).\n"
     ]
    },
    {
     "name": "stderr",
     "output_type": "stream",
     "text": [
      " 77%|███████▋  | 97/126 [02:40<00:45,  1.57s/it]"
     ]
    },
    {
     "name": "stdout",
     "output_type": "stream",
     "text": [
      " Ray: render time: 1.43 sec. = 2520.6 frames/hour (6393.48 sec. accum.).\n"
     ]
    },
    {
     "name": "stderr",
     "output_type": "stream",
     "text": [
      " 78%|███████▊  | 98/126 [02:42<00:44,  1.60s/it]"
     ]
    },
    {
     "name": "stdout",
     "output_type": "stream",
     "text": [
      " Ray: render time: 1.59 sec. = 2258.0 frames/hour (6395.07 sec. accum.).\n"
     ]
    },
    {
     "name": "stderr",
     "output_type": "stream",
     "text": [
      " 79%|███████▊  | 99/126 [02:43<00:43,  1.62s/it]"
     ]
    },
    {
     "name": "stdout",
     "output_type": "stream",
     "text": [
      " Ray: render time: 1.60 sec. = 2250.2 frames/hour (6396.67 sec. accum.).\n"
     ]
    },
    {
     "name": "stderr",
     "output_type": "stream",
     "text": [
      " 79%|███████▉  | 100/126 [02:45<00:41,  1.59s/it]"
     ]
    },
    {
     "name": "stdout",
     "output_type": "stream",
     "text": [
      " Ray: render time: 1.46 sec. = 2460.5 frames/hour (6398.14 sec. accum.).\n"
     ]
    },
    {
     "name": "stderr",
     "output_type": "stream",
     "text": [
      " 80%|████████  | 101/126 [02:46<00:38,  1.54s/it]"
     ]
    },
    {
     "name": "stdout",
     "output_type": "stream",
     "text": [
      " Ray: render time: 1.36 sec. = 2641.6 frames/hour (6399.50 sec. accum.).\n"
     ]
    },
    {
     "name": "stderr",
     "output_type": "stream",
     "text": [
      " 81%|████████  | 102/126 [02:48<00:35,  1.47s/it]"
     ]
    },
    {
     "name": "stdout",
     "output_type": "stream",
     "text": [
      " Ray: render time: 1.23 sec. = 2936.6 frames/hour (6400.72 sec. accum.).\n"
     ]
    },
    {
     "name": "stderr",
     "output_type": "stream",
     "text": [
      " 82%|████████▏ | 103/126 [02:49<00:32,  1.41s/it]"
     ]
    },
    {
     "name": "stdout",
     "output_type": "stream",
     "text": [
      " Ray: render time: 1.22 sec. = 2950.2 frames/hour (6401.94 sec. accum.).\n"
     ]
    },
    {
     "name": "stderr",
     "output_type": "stream",
     "text": [
      " 83%|████████▎ | 104/126 [02:50<00:30,  1.38s/it]"
     ]
    },
    {
     "name": "stdout",
     "output_type": "stream",
     "text": [
      " Ray: render time: 1.22 sec. = 2948.8 frames/hour (6403.17 sec. accum.).\n"
     ]
    },
    {
     "name": "stderr",
     "output_type": "stream",
     "text": [
      " 83%|████████▎ | 105/126 [02:52<00:28,  1.34s/it]"
     ]
    },
    {
     "name": "stdout",
     "output_type": "stream",
     "text": [
      " Ray: render time: 1.18 sec. = 3040.0 frames/hour (6404.35 sec. accum.).\n"
     ]
    },
    {
     "name": "stderr",
     "output_type": "stream",
     "text": [
      " 84%|████████▍ | 106/126 [02:53<00:26,  1.32s/it]"
     ]
    },
    {
     "name": "stdout",
     "output_type": "stream",
     "text": [
      " Ray: render time: 1.23 sec. = 2932.6 frames/hour (6405.58 sec. accum.).\n"
     ]
    },
    {
     "name": "stderr",
     "output_type": "stream",
     "text": [
      " 85%|████████▍ | 107/126 [02:54<00:25,  1.34s/it]"
     ]
    },
    {
     "name": "stdout",
     "output_type": "stream",
     "text": [
      " Ray: render time: 1.33 sec. = 2706.3 frames/hour (6406.91 sec. accum.).\n"
     ]
    },
    {
     "name": "stderr",
     "output_type": "stream",
     "text": [
      " 86%|████████▌ | 108/126 [02:56<00:24,  1.36s/it]"
     ]
    },
    {
     "name": "stdout",
     "output_type": "stream",
     "text": [
      " Ray: render time: 1.32 sec. = 2728.3 frames/hour (6408.23 sec. accum.).\n"
     ]
    },
    {
     "name": "stderr",
     "output_type": "stream",
     "text": [
      " 87%|████████▋ | 109/126 [02:57<00:23,  1.37s/it]"
     ]
    },
    {
     "name": "stdout",
     "output_type": "stream",
     "text": [
      " Ray: render time: 1.35 sec. = 2670.5 frames/hour (6409.57 sec. accum.).\n"
     ]
    },
    {
     "name": "stderr",
     "output_type": "stream",
     "text": [
      " 87%|████████▋ | 110/126 [02:59<00:22,  1.42s/it]"
     ]
    },
    {
     "name": "stdout",
     "output_type": "stream",
     "text": [
      " Ray: render time: 1.47 sec. = 2456.4 frames/hour (6411.04 sec. accum.).\n"
     ]
    },
    {
     "name": "stderr",
     "output_type": "stream",
     "text": [
      " 88%|████████▊ | 111/126 [03:00<00:22,  1.48s/it]"
     ]
    },
    {
     "name": "stdout",
     "output_type": "stream",
     "text": [
      " Ray: render time: 1.55 sec. = 2324.5 frames/hour (6412.59 sec. accum.).\n"
     ]
    },
    {
     "name": "stderr",
     "output_type": "stream",
     "text": [
      " 89%|████████▉ | 112/126 [03:02<00:21,  1.57s/it]"
     ]
    },
    {
     "name": "stdout",
     "output_type": "stream",
     "text": [
      " Ray: render time: 1.72 sec. = 2098.3 frames/hour (6414.30 sec. accum.).\n"
     ]
    },
    {
     "name": "stderr",
     "output_type": "stream",
     "text": [
      " 90%|████████▉ | 113/126 [03:04<00:21,  1.62s/it]"
     ]
    },
    {
     "name": "stdout",
     "output_type": "stream",
     "text": [
      " Ray: render time: 1.67 sec. = 2150.0 frames/hour (6415.98 sec. accum.).\n"
     ]
    },
    {
     "name": "stderr",
     "output_type": "stream",
     "text": [
      " 90%|█████████ | 114/126 [03:05<00:19,  1.65s/it]"
     ]
    },
    {
     "name": "stdout",
     "output_type": "stream",
     "text": [
      " Ray: render time: 1.66 sec. = 2163.5 frames/hour (6417.64 sec. accum.).\n"
     ]
    },
    {
     "name": "stderr",
     "output_type": "stream",
     "text": [
      " 91%|█████████▏| 115/126 [03:07<00:18,  1.68s/it]"
     ]
    },
    {
     "name": "stdout",
     "output_type": "stream",
     "text": [
      " Ray: render time: 1.68 sec. = 2142.4 frames/hour (6419.32 sec. accum.).\n"
     ]
    },
    {
     "name": "stderr",
     "output_type": "stream",
     "text": [
      " 92%|█████████▏| 116/126 [03:09<00:16,  1.70s/it]"
     ]
    },
    {
     "name": "stdout",
     "output_type": "stream",
     "text": [
      " Ray: render time: 1.66 sec. = 2162.3 frames/hour (6420.99 sec. accum.).\n"
     ]
    },
    {
     "name": "stderr",
     "output_type": "stream",
     "text": [
      " 93%|█████████▎| 117/126 [03:11<00:15,  1.69s/it]"
     ]
    },
    {
     "name": "stdout",
     "output_type": "stream",
     "text": [
      " Ray: render time: 1.61 sec. = 2237.4 frames/hour (6422.60 sec. accum.).\n"
     ]
    },
    {
     "name": "stderr",
     "output_type": "stream",
     "text": [
      " 94%|█████████▎| 118/126 [03:12<00:13,  1.68s/it]"
     ]
    },
    {
     "name": "stdout",
     "output_type": "stream",
     "text": [
      " Ray: render time: 1.60 sec. = 2255.0 frames/hour (6424.19 sec. accum.).\n"
     ]
    },
    {
     "name": "stderr",
     "output_type": "stream",
     "text": [
      " 94%|█████████▍| 119/126 [03:14<00:11,  1.70s/it]"
     ]
    },
    {
     "name": "stdout",
     "output_type": "stream",
     "text": [
      " Ray: render time: 1.68 sec. = 2145.5 frames/hour (6425.87 sec. accum.).\n"
     ]
    },
    {
     "name": "stderr",
     "output_type": "stream",
     "text": [
      " 95%|█████████▌| 120/126 [03:16<00:10,  1.70s/it]"
     ]
    },
    {
     "name": "stdout",
     "output_type": "stream",
     "text": [
      " Ray: render time: 1.64 sec. = 2200.5 frames/hour (6427.51 sec. accum.).\n"
     ]
    },
    {
     "name": "stderr",
     "output_type": "stream",
     "text": [
      " 96%|█████████▌| 121/126 [03:17<00:08,  1.67s/it]"
     ]
    },
    {
     "name": "stdout",
     "output_type": "stream",
     "text": [
      " Ray: render time: 1.56 sec. = 2315.1 frames/hour (6429.06 sec. accum.).\n"
     ]
    },
    {
     "name": "stderr",
     "output_type": "stream",
     "text": [
      " 97%|█████████▋| 122/126 [03:19<00:06,  1.67s/it]"
     ]
    },
    {
     "name": "stdout",
     "output_type": "stream",
     "text": [
      " Ray: render time: 1.61 sec. = 2235.4 frames/hour (6430.67 sec. accum.).\n"
     ]
    },
    {
     "name": "stderr",
     "output_type": "stream",
     "text": [
      " 98%|█████████▊| 123/126 [03:21<00:04,  1.65s/it]"
     ]
    },
    {
     "name": "stdout",
     "output_type": "stream",
     "text": [
      " Ray: render time: 1.52 sec. = 2361.2 frames/hour (6432.20 sec. accum.).\n"
     ]
    },
    {
     "name": "stderr",
     "output_type": "stream",
     "text": [
      " 98%|█████████▊| 124/126 [03:22<00:03,  1.62s/it]"
     ]
    },
    {
     "name": "stdout",
     "output_type": "stream",
     "text": [
      " Ray: render time: 1.48 sec. = 2433.6 frames/hour (6433.68 sec. accum.).\n"
     ]
    },
    {
     "name": "stderr",
     "output_type": "stream",
     "text": [
      " 99%|█████████▉| 125/126 [03:24<00:01,  1.60s/it]"
     ]
    },
    {
     "name": "stdout",
     "output_type": "stream",
     "text": [
      " Ray: render time: 1.51 sec. = 2388.1 frames/hour (6435.18 sec. accum.).\n"
     ]
    },
    {
     "name": "stderr",
     "output_type": "stream",
     "text": [
      "100%|██████████| 126/126 [03:25<00:00,  1.63s/it]"
     ]
    },
    {
     "name": "stdout",
     "output_type": "stream",
     "text": [
      " Ray: render time: 1.47 sec. = 2451.7 frames/hour (6436.65 sec. accum.).\n"
     ]
    },
    {
     "name": "stderr",
     "output_type": "stream",
     "text": [
      "\n"
     ]
    }
   ],
   "source": [
    "from tqdm import tqdm\n",
    "import os\n",
    "\n",
    "for id in range(1):\n",
    "    for i in tqdm( list(range(0, 500, 20)) + list(range(900, 1001, 1)) ):\n",
    "        if not os.path.exists(f'denoising_demo_64res_batch4/{id}/model_{i:04}.png'):\n",
    "            pdb2png(f'denoising_demo_64res_batch4/{id}/model_{i}.pdb', f'denoising_demo_64res_batch4/{id}/model_{i:04}.png')"
   ]
  },
  {
   "cell_type": "code",
   "execution_count": 22,
   "metadata": {},
   "outputs": [],
   "source": [
    "import imageio.v2 as imageio\n",
    "import glob\n",
    "from pygifsicle import optimize\n",
    "\n",
    "for id in range(10):\n",
    "    filenames = [f'denoising_demo_64res_batch4/{id}/model_{i:04}.png' for i in list(range(0, 500, 20)) + list(range(900, 1001, 1))]\n",
    "\n",
    "    with imageio.get_writer(f'gallery/denoising_demo_64res4_{id}.gif', mode='I', loop=0, duration=0.01) as writer:\n",
    "        for filename in filenames:\n",
    "            image = imageio.imread(filename)\n",
    "            writer.append_data(image)\n",
    "            \n",
    "            if filename.endswith('_1000.png'):\n",
    "                for _ in range(500):\n",
    "                    writer.append_data(image)"
   ]
  },
  {
   "cell_type": "code",
   "execution_count": null,
   "metadata": {},
   "outputs": [],
   "source": []
  }
 ],
 "metadata": {
  "kernelspec": {
   "display_name": "pymol",
   "language": "python",
   "name": "pymol"
  },
  "language_info": {
   "codemirror_mode": {
    "name": "ipython",
    "version": 3
   },
   "file_extension": ".py",
   "mimetype": "text/x-python",
   "name": "python",
   "nbconvert_exporter": "python",
   "pygments_lexer": "ipython3",
   "version": "3.7.12"
  }
 },
 "nbformat": 4,
 "nbformat_minor": 4
}
