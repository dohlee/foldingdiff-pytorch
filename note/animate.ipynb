{
 "cells": [
  {
   "cell_type": "code",
   "execution_count": 1,
   "metadata": {},
   "outputs": [],
   "source": [
    "import pymol"
   ]
  },
  {
   "cell_type": "code",
   "execution_count": 2,
   "metadata": {},
   "outputs": [],
   "source": [
    "def pdb2png(pdb, file):\n",
    "    \"\"\"Convert the pdb file into a png, returns output filename\"\"\"\n",
    "    # https://gist.github.com/bougui505/11401240\n",
    "    pymol.cmd.load(pdb)\n",
    "    pymol.cmd.show(\"cartoon\")\n",
    "    pymol.cmd.color(\"palegreen\")\n",
    "    pymol.cmd.bg_color(\"white\")\n",
    "    pymol.cmd.set(\"ray_opaque_background\", 1)\n",
    "    pymol.cmd.set(\"ray_trace_mode\", 1)\n",
    "    pymol.cmd.set(\"ray_trace_color\", \"black\")\n",
    "    pymol.cmd.set(\"ray_trace_gain\", 0.01)\n",
    "#     pymol.cmd.origin(position=[0.0, 0.0, 0.0])\n",
    "#     pymol.cmd.center(\"origin\")\n",
    "    pymol.cmd.png(file, ray=1, dpi=600)\n",
    "    pymol.cmd.zoom(\"origin\", 1)\n",
    "    pymol.cmd.delete(\"*\")\n",
    "    return file"
   ]
  },
  {
   "cell_type": "code",
   "execution_count": 4,
   "metadata": {},
   "outputs": [
    {
     "name": "stdout",
     "output_type": "stream",
     "text": [
      " Ray: render time: 1.98 sec. = 1820.1 frames/hour (2.81 sec. accum.).\n"
     ]
    },
    {
     "data": {
      "text/plain": [
       "'test.png'"
      ]
     },
     "execution_count": 4,
     "metadata": {},
     "output_type": "execute_result"
    }
   ],
   "source": [
    "pdb2png(f'denoising_demo/model_1.pdb', f'test.png')"
   ]
  },
  {
   "cell_type": "code",
   "execution_count": null,
   "metadata": {
    "scrolled": true
   },
   "outputs": [
    {
     "name": "stderr",
     "output_type": "stream",
     "text": [
      "  0%|          | 1/1001 [00:02<34:56,  2.10s/it]"
     ]
    },
    {
     "name": "stdout",
     "output_type": "stream",
     "text": [
      " Ray: render time: 2.03 sec. = 1776.5 frames/hour (1200.92 sec. accum.).\n"
     ]
    },
    {
     "name": "stderr",
     "output_type": "stream",
     "text": [
      "  0%|          | 2/1001 [00:03<26:06,  1.57s/it]"
     ]
    },
    {
     "name": "stdout",
     "output_type": "stream",
     "text": [
      " Ray: render time: 1.14 sec. = 3147.5 frames/hour (1202.06 sec. accum.).\n"
     ]
    },
    {
     "name": "stderr",
     "output_type": "stream",
     "text": [
      "  0%|          | 3/1001 [00:06<38:47,  2.33s/it]"
     ]
    },
    {
     "name": "stdout",
     "output_type": "stream",
     "text": [
      " Ray: render time: 3.15 sec. = 1144.1 frames/hour (1205.21 sec. accum.).\n"
     ]
    },
    {
     "name": "stderr",
     "output_type": "stream",
     "text": [
      "  0%|          | 4/1001 [00:08<36:56,  2.22s/it]"
     ]
    },
    {
     "name": "stdout",
     "output_type": "stream",
     "text": [
      " Ray: render time: 1.93 sec. = 1865.1 frames/hour (1207.14 sec. accum.).\n"
     ]
    },
    {
     "name": "stderr",
     "output_type": "stream",
     "text": [
      "  0%|          | 5/1001 [00:09<32:00,  1.93s/it]"
     ]
    },
    {
     "name": "stdout",
     "output_type": "stream",
     "text": [
      " Ray: render time: 1.33 sec. = 2698.1 frames/hour (1208.48 sec. accum.).\n"
     ]
    },
    {
     "name": "stderr",
     "output_type": "stream",
     "text": [
      "  1%|          | 6/1001 [00:11<30:16,  1.83s/it]"
     ]
    },
    {
     "name": "stdout",
     "output_type": "stream",
     "text": [
      " Ray: render time: 1.54 sec. = 2331.9 frames/hour (1210.02 sec. accum.).\n"
     ]
    },
    {
     "name": "stderr",
     "output_type": "stream",
     "text": [
      "  1%|          | 7/1001 [00:13<28:59,  1.75s/it]"
     ]
    },
    {
     "name": "stdout",
     "output_type": "stream",
     "text": [
      " Ray: render time: 1.53 sec. = 2348.7 frames/hour (1211.55 sec. accum.).\n"
     ]
    },
    {
     "name": "stderr",
     "output_type": "stream",
     "text": [
      "  1%|          | 8/1001 [00:14<26:54,  1.63s/it]"
     ]
    },
    {
     "name": "stdout",
     "output_type": "stream",
     "text": [
      " Ray: render time: 1.30 sec. = 2763.4 frames/hour (1212.86 sec. accum.).\n"
     ]
    },
    {
     "name": "stderr",
     "output_type": "stream",
     "text": [
      "  1%|          | 9/1001 [00:16<26:44,  1.62s/it]"
     ]
    },
    {
     "name": "stdout",
     "output_type": "stream",
     "text": [
      " Ray: render time: 1.53 sec. = 2351.3 frames/hour (1214.39 sec. accum.).\n"
     ]
    },
    {
     "name": "stderr",
     "output_type": "stream",
     "text": [
      "  1%|          | 10/1001 [00:18<31:07,  1.88s/it]"
     ]
    },
    {
     "name": "stdout",
     "output_type": "stream",
     "text": [
      " Ray: render time: 2.41 sec. = 1491.8 frames/hour (1216.80 sec. accum.).\n"
     ]
    },
    {
     "name": "stderr",
     "output_type": "stream",
     "text": [
      "  1%|          | 11/1001 [00:22<41:23,  2.51s/it]"
     ]
    },
    {
     "name": "stdout",
     "output_type": "stream",
     "text": [
      " Ray: render time: 3.81 sec. = 943.7 frames/hour (1220.61 sec. accum.).\n"
     ]
    },
    {
     "name": "stderr",
     "output_type": "stream",
     "text": [
      "  1%|          | 12/1001 [00:24<39:47,  2.41s/it]"
     ]
    },
    {
     "name": "stdout",
     "output_type": "stream",
     "text": [
      " Ray: render time: 2.12 sec. = 1698.4 frames/hour (1222.73 sec. accum.).\n"
     ]
    },
    {
     "name": "stderr",
     "output_type": "stream",
     "text": [
      "  1%|▏         | 13/1001 [00:28<46:46,  2.84s/it]"
     ]
    },
    {
     "name": "stdout",
     "output_type": "stream",
     "text": [
      " Ray: render time: 3.71 sec. = 971.3 frames/hour (1226.44 sec. accum.).\n"
     ]
    },
    {
     "name": "stderr",
     "output_type": "stream",
     "text": [
      "  1%|▏         | 14/1001 [00:31<45:57,  2.79s/it]"
     ]
    },
    {
     "name": "stdout",
     "output_type": "stream",
     "text": [
      " Ray: render time: 2.60 sec. = 1384.6 frames/hour (1229.04 sec. accum.).\n"
     ]
    },
    {
     "name": "stderr",
     "output_type": "stream",
     "text": [
      "  1%|▏         | 15/1001 [00:33<45:20,  2.76s/it]"
     ]
    },
    {
     "name": "stdout",
     "output_type": "stream",
     "text": [
      " Ray: render time: 2.61 sec. = 1381.5 frames/hour (1231.65 sec. accum.).\n"
     ]
    },
    {
     "name": "stderr",
     "output_type": "stream",
     "text": [
      "  2%|▏         | 16/1001 [00:36<43:39,  2.66s/it]"
     ]
    },
    {
     "name": "stdout",
     "output_type": "stream",
     "text": [
      " Ray: render time: 2.35 sec. = 1530.8 frames/hour (1234.00 sec. accum.).\n"
     ]
    },
    {
     "name": "stderr",
     "output_type": "stream",
     "text": [
      "  2%|▏         | 17/1001 [00:38<42:16,  2.58s/it]"
     ]
    },
    {
     "name": "stdout",
     "output_type": "stream",
     "text": [
      " Ray: render time: 2.33 sec. = 1548.3 frames/hour (1236.32 sec. accum.).\n"
     ]
    },
    {
     "name": "stderr",
     "output_type": "stream",
     "text": [
      "  2%|▏         | 18/1001 [00:39<35:03,  2.14s/it]"
     ]
    },
    {
     "name": "stdout",
     "output_type": "stream",
     "text": [
      " Ray: render time: 1.05 sec. = 3439.8 frames/hour (1237.37 sec. accum.).\n"
     ]
    },
    {
     "name": "stderr",
     "output_type": "stream",
     "text": [
      "  2%|▏         | 19/1001 [00:44<45:49,  2.80s/it]"
     ]
    },
    {
     "name": "stdout",
     "output_type": "stream",
     "text": [
      " Ray: render time: 4.24 sec. = 849.8 frames/hour (1241.61 sec. accum.).\n"
     ]
    },
    {
     "name": "stderr",
     "output_type": "stream",
     "text": [
      "  2%|▏         | 20/1001 [00:47<48:44,  2.98s/it]"
     ]
    },
    {
     "name": "stdout",
     "output_type": "stream",
     "text": [
      " Ray: render time: 3.31 sec. = 1087.6 frames/hour (1244.92 sec. accum.).\n"
     ]
    },
    {
     "name": "stderr",
     "output_type": "stream",
     "text": [
      "  2%|▏         | 21/1001 [00:49<44:43,  2.74s/it]"
     ]
    },
    {
     "name": "stdout",
     "output_type": "stream",
     "text": [
      " Ray: render time: 2.07 sec. = 1736.2 frames/hour (1246.99 sec. accum.).\n"
     ]
    },
    {
     "name": "stderr",
     "output_type": "stream",
     "text": [
      "  2%|▏         | 22/1001 [00:52<42:27,  2.60s/it]"
     ]
    },
    {
     "name": "stdout",
     "output_type": "stream",
     "text": [
      " Ray: render time: 2.19 sec. = 1643.2 frames/hour (1249.18 sec. accum.).\n"
     ]
    },
    {
     "name": "stderr",
     "output_type": "stream",
     "text": [
      "  2%|▏         | 23/1001 [00:53<38:29,  2.36s/it]"
     ]
    },
    {
     "name": "stdout",
     "output_type": "stream",
     "text": [
      " Ray: render time: 1.71 sec. = 2105.5 frames/hour (1250.89 sec. accum.).\n"
     ]
    },
    {
     "name": "stderr",
     "output_type": "stream",
     "text": [
      "  2%|▏         | 24/1001 [00:56<40:20,  2.48s/it]"
     ]
    },
    {
     "name": "stdout",
     "output_type": "stream",
     "text": [
      " Ray: render time: 2.65 sec. = 1356.1 frames/hour (1253.54 sec. accum.).\n"
     ]
    },
    {
     "name": "stderr",
     "output_type": "stream",
     "text": [
      "  2%|▏         | 25/1001 [00:59<43:29,  2.67s/it]"
     ]
    },
    {
     "name": "stdout",
     "output_type": "stream",
     "text": [
      " Ray: render time: 3.05 sec. = 1181.8 frames/hour (1256.59 sec. accum.).\n"
     ]
    },
    {
     "name": "stderr",
     "output_type": "stream",
     "text": [
      "  3%|▎         | 26/1001 [01:02<41:53,  2.58s/it]"
     ]
    },
    {
     "name": "stdout",
     "output_type": "stream",
     "text": [
      " Ray: render time: 2.24 sec. = 1604.7 frames/hour (1258.83 sec. accum.).\n"
     ]
    },
    {
     "name": "stderr",
     "output_type": "stream",
     "text": [
      "  3%|▎         | 27/1001 [01:04<42:00,  2.59s/it]"
     ]
    },
    {
     "name": "stdout",
     "output_type": "stream",
     "text": [
      " Ray: render time: 2.54 sec. = 1418.8 frames/hour (1261.37 sec. accum.).\n"
     ]
    },
    {
     "name": "stderr",
     "output_type": "stream",
     "text": [
      "  3%|▎         | 28/1001 [01:07<44:18,  2.73s/it]"
     ]
    },
    {
     "name": "stdout",
     "output_type": "stream",
     "text": [
      " Ray: render time: 2.96 sec. = 1215.0 frames/hour (1264.33 sec. accum.).\n"
     ]
    },
    {
     "name": "stderr",
     "output_type": "stream",
     "text": [
      "  3%|▎         | 29/1001 [01:11<46:43,  2.88s/it]"
     ]
    },
    {
     "name": "stdout",
     "output_type": "stream",
     "text": [
      " Ray: render time: 3.14 sec. = 1145.6 frames/hour (1267.48 sec. accum.).\n"
     ]
    },
    {
     "name": "stderr",
     "output_type": "stream",
     "text": [
      "  3%|▎         | 30/1001 [01:16<59:25,  3.67s/it]"
     ]
    },
    {
     "name": "stdout",
     "output_type": "stream",
     "text": [
      " Ray: render time: 5.40 sec. = 666.9 frames/hour (1272.88 sec. accum.).\n"
     ]
    },
    {
     "name": "stderr",
     "output_type": "stream",
     "text": [
      "  3%|▎         | 31/1001 [01:19<57:39,  3.57s/it]"
     ]
    },
    {
     "name": "stdout",
     "output_type": "stream",
     "text": [
      " Ray: render time: 3.25 sec. = 1106.3 frames/hour (1276.13 sec. accum.).\n"
     ]
    },
    {
     "name": "stderr",
     "output_type": "stream",
     "text": [
      "  3%|▎         | 32/1001 [01:23<56:57,  3.53s/it]"
     ]
    },
    {
     "name": "stdout",
     "output_type": "stream",
     "text": [
      " Ray: render time: 3.34 sec. = 1078.1 frames/hour (1279.47 sec. accum.).\n"
     ]
    },
    {
     "name": "stderr",
     "output_type": "stream",
     "text": [
      "  3%|▎         | 33/1001 [01:25<51:42,  3.21s/it]"
     ]
    },
    {
     "name": "stdout",
     "output_type": "stream",
     "text": [
      " Ray: render time: 2.36 sec. = 1524.3 frames/hour (1281.83 sec. accum.).\n"
     ]
    },
    {
     "name": "stderr",
     "output_type": "stream",
     "text": [
      "  3%|▎         | 34/1001 [01:29<53:02,  3.29s/it]"
     ]
    },
    {
     "name": "stdout",
     "output_type": "stream",
     "text": [
      " Ray: render time: 3.41 sec. = 1054.3 frames/hour (1285.24 sec. accum.).\n"
     ]
    },
    {
     "name": "stderr",
     "output_type": "stream",
     "text": [
      "  3%|▎         | 35/1001 [01:31<48:05,  2.99s/it]"
     ]
    },
    {
     "name": "stdout",
     "output_type": "stream",
     "text": [
      " Ray: render time: 2.17 sec. = 1655.4 frames/hour (1287.42 sec. accum.).\n"
     ]
    },
    {
     "name": "stderr",
     "output_type": "stream",
     "text": [
      "  4%|▎         | 36/1001 [01:34<47:50,  2.97s/it]"
     ]
    },
    {
     "name": "stdout",
     "output_type": "stream",
     "text": [
      " Ray: render time: 2.84 sec. = 1267.1 frames/hour (1290.26 sec. accum.).\n"
     ]
    },
    {
     "name": "stderr",
     "output_type": "stream",
     "text": [
      "  4%|▎         | 37/1001 [01:37<47:22,  2.95s/it]"
     ]
    },
    {
     "name": "stdout",
     "output_type": "stream",
     "text": [
      " Ray: render time: 2.77 sec. = 1297.6 frames/hour (1293.03 sec. accum.).\n"
     ]
    },
    {
     "name": "stderr",
     "output_type": "stream",
     "text": [
      "  4%|▍         | 38/1001 [01:39<44:16,  2.76s/it]"
     ]
    },
    {
     "name": "stdout",
     "output_type": "stream",
     "text": [
      " Ray: render time: 2.24 sec. = 1605.4 frames/hour (1295.28 sec. accum.).\n"
     ]
    },
    {
     "name": "stderr",
     "output_type": "stream",
     "text": [
      "  4%|▍         | 39/1001 [01:41<40:17,  2.51s/it]"
     ]
    },
    {
     "name": "stdout",
     "output_type": "stream",
     "text": [
      " Ray: render time: 1.87 sec. = 1921.9 frames/hour (1297.15 sec. accum.).\n"
     ]
    },
    {
     "name": "stderr",
     "output_type": "stream",
     "text": [
      "  4%|▍         | 40/1001 [01:45<47:27,  2.96s/it]"
     ]
    },
    {
     "name": "stdout",
     "output_type": "stream",
     "text": [
      " Ray: render time: 3.93 sec. = 916.3 frames/hour (1301.08 sec. accum.).\n"
     ]
    },
    {
     "name": "stderr",
     "output_type": "stream",
     "text": [
      "  4%|▍         | 41/1001 [01:51<59:23,  3.71s/it]"
     ]
    },
    {
     "name": "stdout",
     "output_type": "stream",
     "text": [
      " Ray: render time: 5.32 sec. = 676.7 frames/hour (1306.40 sec. accum.).\n"
     ]
    },
    {
     "name": "stderr",
     "output_type": "stream",
     "text": [
      "  4%|▍         | 42/1001 [01:53<53:15,  3.33s/it]"
     ]
    },
    {
     "name": "stdout",
     "output_type": "stream",
     "text": [
      " Ray: render time: 2.32 sec. = 1552.7 frames/hour (1308.72 sec. accum.).\n"
     ]
    },
    {
     "name": "stderr",
     "output_type": "stream",
     "text": [
      "  4%|▍         | 43/1001 [01:56<51:53,  3.25s/it]"
     ]
    },
    {
     "name": "stdout",
     "output_type": "stream",
     "text": [
      " Ray: render time: 2.95 sec. = 1220.0 frames/hour (1311.67 sec. accum.).\n"
     ]
    },
    {
     "name": "stderr",
     "output_type": "stream",
     "text": [
      "  4%|▍         | 44/1001 [01:59<51:11,  3.21s/it]"
     ]
    },
    {
     "name": "stdout",
     "output_type": "stream",
     "text": [
      " Ray: render time: 3.00 sec. = 1200.2 frames/hour (1314.67 sec. accum.).\n"
     ]
    },
    {
     "name": "stderr",
     "output_type": "stream",
     "text": [
      "  4%|▍         | 45/1001 [02:01<42:58,  2.70s/it]"
     ]
    },
    {
     "name": "stdout",
     "output_type": "stream",
     "text": [
      " Ray: render time: 1.44 sec. = 2497.9 frames/hour (1316.11 sec. accum.).\n"
     ]
    },
    {
     "name": "stderr",
     "output_type": "stream",
     "text": [
      "  5%|▍         | 46/1001 [02:03<39:32,  2.48s/it]"
     ]
    },
    {
     "name": "stdout",
     "output_type": "stream",
     "text": [
      " Ray: render time: 1.92 sec. = 1872.3 frames/hour (1318.03 sec. accum.).\n"
     ]
    },
    {
     "name": "stderr",
     "output_type": "stream",
     "text": [
      "  5%|▍         | 47/1001 [02:06<44:43,  2.81s/it]"
     ]
    },
    {
     "name": "stdout",
     "output_type": "stream",
     "text": [
      " Ray: render time: 3.49 sec. = 1030.4 frames/hour (1321.53 sec. accum.).\n"
     ]
    },
    {
     "name": "stderr",
     "output_type": "stream",
     "text": [
      "  5%|▍         | 48/1001 [02:11<51:21,  3.23s/it]"
     ]
    },
    {
     "name": "stdout",
     "output_type": "stream",
     "text": [
      " Ray: render time: 4.08 sec. = 883.4 frames/hour (1325.60 sec. accum.).\n"
     ]
    },
    {
     "name": "stderr",
     "output_type": "stream",
     "text": [
      "  5%|▍         | 49/1001 [02:13<45:27,  2.87s/it]"
     ]
    },
    {
     "name": "stdout",
     "output_type": "stream",
     "text": [
      " Ray: render time: 1.94 sec. = 1857.8 frames/hour (1327.54 sec. accum.).\n"
     ]
    },
    {
     "name": "stderr",
     "output_type": "stream",
     "text": [
      "  5%|▍         | 50/1001 [02:16<47:57,  3.03s/it]"
     ]
    },
    {
     "name": "stdout",
     "output_type": "stream",
     "text": [
      " Ray: render time: 3.30 sec. = 1089.6 frames/hour (1330.84 sec. accum.).\n"
     ]
    },
    {
     "name": "stderr",
     "output_type": "stream",
     "text": [
      "  5%|▌         | 51/1001 [02:21<56:44,  3.58s/it]"
     ]
    },
    {
     "name": "stdout",
     "output_type": "stream",
     "text": [
      " Ray: render time: 4.79 sec. = 751.0 frames/hour (1335.64 sec. accum.).\n"
     ]
    },
    {
     "name": "stderr",
     "output_type": "stream",
     "text": [
      "  5%|▌         | 52/1001 [02:23<48:13,  3.05s/it]"
     ]
    },
    {
     "name": "stdout",
     "output_type": "stream",
     "text": [
      " Ray: render time: 1.75 sec. = 2063.0 frames/hour (1337.38 sec. accum.).\n"
     ]
    },
    {
     "name": "stderr",
     "output_type": "stream",
     "text": [
      "  5%|▌         | 53/1001 [02:25<44:11,  2.80s/it]"
     ]
    },
    {
     "name": "stdout",
     "output_type": "stream",
     "text": [
      " Ray: render time: 2.13 sec. = 1693.1 frames/hour (1339.51 sec. accum.).\n"
     ]
    },
    {
     "name": "stderr",
     "output_type": "stream",
     "text": [
      "  5%|▌         | 54/1001 [02:29<51:43,  3.28s/it]"
     ]
    },
    {
     "name": "stdout",
     "output_type": "stream",
     "text": [
      " Ray: render time: 4.25 sec. = 847.7 frames/hour (1343.75 sec. accum.).\n"
     ]
    },
    {
     "name": "stderr",
     "output_type": "stream",
     "text": [
      "  5%|▌         | 55/1001 [02:33<54:43,  3.47s/it]"
     ]
    },
    {
     "name": "stdout",
     "output_type": "stream",
     "text": [
      " Ray: render time: 3.83 sec. = 940.6 frames/hour (1347.58 sec. accum.).\n"
     ]
    },
    {
     "name": "stderr",
     "output_type": "stream",
     "text": [
      "  6%|▌         | 56/1001 [02:37<55:01,  3.49s/it]"
     ]
    },
    {
     "name": "stdout",
     "output_type": "stream",
     "text": [
      " Ray: render time: 3.44 sec. = 1047.1 frames/hour (1351.02 sec. accum.).\n"
     ]
    },
    {
     "name": "stderr",
     "output_type": "stream",
     "text": [
      "  6%|▌         | 57/1001 [02:40<56:30,  3.59s/it]"
     ]
    },
    {
     "name": "stdout",
     "output_type": "stream",
     "text": [
      " Ray: render time: 3.70 sec. = 974.0 frames/hour (1354.72 sec. accum.).\n"
     ]
    },
    {
     "name": "stderr",
     "output_type": "stream",
     "text": [
      "  6%|▌         | 58/1001 [02:43<53:08,  3.38s/it]"
     ]
    },
    {
     "name": "stdout",
     "output_type": "stream",
     "text": [
      " Ray: render time: 2.81 sec. = 1281.1 frames/hour (1357.53 sec. accum.).\n"
     ]
    },
    {
     "name": "stderr",
     "output_type": "stream",
     "text": [
      "  6%|▌         | 59/1001 [02:47<51:52,  3.30s/it]"
     ]
    },
    {
     "name": "stdout",
     "output_type": "stream",
     "text": [
      " Ray: render time: 3.00 sec. = 1199.7 frames/hour (1360.53 sec. accum.).\n"
     ]
    },
    {
     "name": "stderr",
     "output_type": "stream",
     "text": [
      "  6%|▌         | 60/1001 [02:50<52:19,  3.34s/it]"
     ]
    },
    {
     "name": "stdout",
     "output_type": "stream",
     "text": [
      " Ray: render time: 3.29 sec. = 1094.0 frames/hour (1363.82 sec. accum.).\n"
     ]
    },
    {
     "name": "stderr",
     "output_type": "stream",
     "text": [
      "  6%|▌         | 61/1001 [02:52<45:23,  2.90s/it]"
     ]
    },
    {
     "name": "stdout",
     "output_type": "stream",
     "text": [
      " Ray: render time: 1.80 sec. = 1997.4 frames/hour (1365.62 sec. accum.).\n"
     ]
    },
    {
     "name": "stderr",
     "output_type": "stream",
     "text": [
      "  6%|▌         | 62/1001 [02:55<47:10,  3.01s/it]"
     ]
    },
    {
     "name": "stdout",
     "output_type": "stream",
     "text": [
      " Ray: render time: 3.19 sec. = 1128.7 frames/hour (1368.81 sec. accum.).\n"
     ]
    },
    {
     "name": "stderr",
     "output_type": "stream",
     "text": [
      "  6%|▋         | 63/1001 [02:58<47:14,  3.02s/it]"
     ]
    },
    {
     "name": "stdout",
     "output_type": "stream",
     "text": [
      " Ray: render time: 2.95 sec. = 1220.6 frames/hour (1371.76 sec. accum.).\n"
     ]
    },
    {
     "name": "stderr",
     "output_type": "stream",
     "text": [
      "  6%|▋         | 64/1001 [03:01<45:05,  2.89s/it]"
     ]
    },
    {
     "name": "stdout",
     "output_type": "stream",
     "text": [
      " Ray: render time: 2.49 sec. = 1446.8 frames/hour (1374.25 sec. accum.).\n"
     ]
    },
    {
     "name": "stderr",
     "output_type": "stream",
     "text": [
      "  6%|▋         | 65/1001 [03:03<43:41,  2.80s/it]"
     ]
    },
    {
     "name": "stdout",
     "output_type": "stream",
     "text": [
      " Ray: render time: 2.49 sec. = 1447.8 frames/hour (1376.73 sec. accum.).\n"
     ]
    },
    {
     "name": "stderr",
     "output_type": "stream",
     "text": [
      "  7%|▋         | 66/1001 [03:05<38:43,  2.49s/it]"
     ]
    },
    {
     "name": "stdout",
     "output_type": "stream",
     "text": [
      " Ray: render time: 1.69 sec. = 2132.9 frames/hour (1378.42 sec. accum.).\n"
     ]
    },
    {
     "name": "stderr",
     "output_type": "stream",
     "text": [
      "  7%|▋         | 67/1001 [03:07<35:48,  2.30s/it]"
     ]
    },
    {
     "name": "stdout",
     "output_type": "stream",
     "text": [
      " Ray: render time: 1.80 sec. = 2003.1 frames/hour (1380.22 sec. accum.).\n"
     ]
    },
    {
     "name": "stderr",
     "output_type": "stream",
     "text": [
      "  7%|▋         | 68/1001 [03:08<32:15,  2.07s/it]"
     ]
    },
    {
     "name": "stdout",
     "output_type": "stream",
     "text": [
      " Ray: render time: 1.49 sec. = 2420.5 frames/hour (1381.70 sec. accum.).\n"
     ]
    },
    {
     "name": "stderr",
     "output_type": "stream",
     "text": [
      "  7%|▋         | 69/1001 [03:11<34:35,  2.23s/it]"
     ]
    },
    {
     "name": "stdout",
     "output_type": "stream",
     "text": [
      " Ray: render time: 2.47 sec. = 1457.7 frames/hour (1384.17 sec. accum.).\n"
     ]
    },
    {
     "name": "stderr",
     "output_type": "stream",
     "text": [
      "  7%|▋         | 70/1001 [03:13<33:08,  2.14s/it]"
     ]
    },
    {
     "name": "stdout",
     "output_type": "stream",
     "text": [
      " Ray: render time: 1.84 sec. = 1958.4 frames/hour (1386.01 sec. accum.).\n"
     ]
    },
    {
     "name": "stderr",
     "output_type": "stream",
     "text": [
      "  7%|▋         | 71/1001 [03:16<37:08,  2.40s/it]"
     ]
    },
    {
     "name": "stdout",
     "output_type": "stream",
     "text": [
      " Ray: render time: 2.92 sec. = 1234.7 frames/hour (1388.93 sec. accum.).\n"
     ]
    },
    {
     "name": "stderr",
     "output_type": "stream",
     "text": [
      "  7%|▋         | 72/1001 [03:18<36:52,  2.38s/it]"
     ]
    },
    {
     "name": "stdout",
     "output_type": "stream",
     "text": [
      " Ray: render time: 2.26 sec. = 1589.4 frames/hour (1391.19 sec. accum.).\n"
     ]
    },
    {
     "name": "stderr",
     "output_type": "stream",
     "text": [
      "  7%|▋         | 73/1001 [03:25<54:29,  3.52s/it]"
     ]
    },
    {
     "name": "stdout",
     "output_type": "stream",
     "text": [
      " Ray: render time: 6.06 sec. = 593.8 frames/hour (1397.26 sec. accum.).\n"
     ]
    },
    {
     "name": "stderr",
     "output_type": "stream",
     "text": [
      "  7%|▋         | 74/1001 [03:26<46:35,  3.02s/it]"
     ]
    },
    {
     "name": "stdout",
     "output_type": "stream",
     "text": [
      " Ray: render time: 1.75 sec. = 2060.6 frames/hour (1399.00 sec. accum.).\n"
     ]
    },
    {
     "name": "stderr",
     "output_type": "stream",
     "text": [
      "  7%|▋         | 75/1001 [03:28<41:21,  2.68s/it]"
     ]
    },
    {
     "name": "stdout",
     "output_type": "stream",
     "text": [
      " Ray: render time: 1.82 sec. = 1979.2 frames/hour (1400.82 sec. accum.).\n"
     ]
    },
    {
     "name": "stderr",
     "output_type": "stream",
     "text": [
      "  8%|▊         | 76/1001 [03:30<37:27,  2.43s/it]"
     ]
    },
    {
     "name": "stdout",
     "output_type": "stream",
     "text": [
      " Ray: render time: 1.76 sec. = 2046.9 frames/hour (1402.58 sec. accum.).\n"
     ]
    },
    {
     "name": "stderr",
     "output_type": "stream",
     "text": [
      "  8%|▊         | 77/1001 [03:33<37:41,  2.45s/it]"
     ]
    },
    {
     "name": "stdout",
     "output_type": "stream",
     "text": [
      " Ray: render time: 2.36 sec. = 1522.8 frames/hour (1404.94 sec. accum.).\n"
     ]
    },
    {
     "name": "stderr",
     "output_type": "stream",
     "text": [
      "  8%|▊         | 78/1001 [03:35<38:49,  2.52s/it]"
     ]
    },
    {
     "name": "stdout",
     "output_type": "stream",
     "text": [
      " Ray: render time: 2.62 sec. = 1374.6 frames/hour (1407.56 sec. accum.).\n"
     ]
    },
    {
     "name": "stderr",
     "output_type": "stream",
     "text": [
      "  8%|▊         | 79/1001 [03:37<36:55,  2.40s/it]"
     ]
    },
    {
     "name": "stdout",
     "output_type": "stream",
     "text": [
      " Ray: render time: 2.05 sec. = 1758.7 frames/hour (1409.61 sec. accum.).\n"
     ]
    },
    {
     "name": "stderr",
     "output_type": "stream",
     "text": [
      "  8%|▊         | 80/1001 [03:40<37:14,  2.43s/it]"
     ]
    },
    {
     "name": "stdout",
     "output_type": "stream",
     "text": [
      " Ray: render time: 2.37 sec. = 1521.9 frames/hour (1411.98 sec. accum.).\n"
     ]
    },
    {
     "name": "stderr",
     "output_type": "stream",
     "text": [
      "  8%|▊         | 81/1001 [03:42<33:44,  2.20s/it]"
     ]
    },
    {
     "name": "stdout",
     "output_type": "stream",
     "text": [
      " Ray: render time: 1.61 sec. = 2234.8 frames/hour (1413.59 sec. accum.).\n"
     ]
    },
    {
     "name": "stderr",
     "output_type": "stream",
     "text": [
      "  8%|▊         | 82/1001 [03:44<33:15,  2.17s/it]"
     ]
    },
    {
     "name": "stdout",
     "output_type": "stream",
     "text": [
      " Ray: render time: 2.01 sec. = 1787.7 frames/hour (1415.60 sec. accum.).\n"
     ]
    },
    {
     "name": "stderr",
     "output_type": "stream",
     "text": [
      "  8%|▊         | 83/1001 [03:46<35:50,  2.34s/it]"
     ]
    },
    {
     "name": "stdout",
     "output_type": "stream",
     "text": [
      " Ray: render time: 2.66 sec. = 1355.6 frames/hour (1418.26 sec. accum.).\n",
      " Ray: render time: 2.18 sec. = 1650.0 frames/hour (1420.44 sec. accum.).\n"
     ]
    },
    {
     "name": "stderr",
     "output_type": "stream",
     "text": [
      "  8%|▊         | 85/1001 [03:52<41:15,  2.70s/it]"
     ]
    },
    {
     "name": "stdout",
     "output_type": "stream",
     "text": [
      " Ray: render time: 3.17 sec. = 1134.7 frames/hour (1423.61 sec. accum.).\n"
     ]
    },
    {
     "name": "stderr",
     "output_type": "stream",
     "text": [
      "  9%|▊         | 86/1001 [03:56<43:06,  2.83s/it]"
     ]
    },
    {
     "name": "stdout",
     "output_type": "stream",
     "text": [
      " Ray: render time: 3.03 sec. = 1190.0 frames/hour (1426.64 sec. accum.).\n"
     ]
    },
    {
     "name": "stderr",
     "output_type": "stream",
     "text": [
      "  9%|▊         | 87/1001 [03:59<48:05,  3.16s/it]"
     ]
    },
    {
     "name": "stdout",
     "output_type": "stream",
     "text": [
      " Ray: render time: 3.81 sec. = 943.7 frames/hour (1430.45 sec. accum.).\n"
     ]
    },
    {
     "name": "stderr",
     "output_type": "stream",
     "text": [
      "  9%|▉         | 88/1001 [04:02<46:08,  3.03s/it]"
     ]
    },
    {
     "name": "stdout",
     "output_type": "stream",
     "text": [
      " Ray: render time: 2.63 sec. = 1367.3 frames/hour (1433.08 sec. accum.).\n"
     ]
    },
    {
     "name": "stderr",
     "output_type": "stream",
     "text": [
      "  9%|▉         | 89/1001 [04:05<46:35,  3.07s/it]"
     ]
    },
    {
     "name": "stdout",
     "output_type": "stream",
     "text": [
      " Ray: render time: 3.05 sec. = 1178.7 frames/hour (1436.14 sec. accum.).\n"
     ]
    },
    {
     "name": "stderr",
     "output_type": "stream",
     "text": [
      "  9%|▉         | 90/1001 [04:09<50:23,  3.32s/it]"
     ]
    },
    {
     "name": "stdout",
     "output_type": "stream",
     "text": [
      " Ray: render time: 3.78 sec. = 952.1 frames/hour (1439.92 sec. accum.).\n"
     ]
    },
    {
     "name": "stderr",
     "output_type": "stream",
     "text": [
      "  9%|▉         | 91/1001 [04:11<44:50,  2.96s/it]"
     ]
    },
    {
     "name": "stdout",
     "output_type": "stream",
     "text": [
      " Ray: render time: 2.03 sec. = 1772.3 frames/hour (1441.95 sec. accum.).\n"
     ]
    },
    {
     "name": "stderr",
     "output_type": "stream",
     "text": [
      "  9%|▉         | 92/1001 [04:14<41:22,  2.73s/it]"
     ]
    },
    {
     "name": "stdout",
     "output_type": "stream",
     "text": [
      " Ray: render time: 2.11 sec. = 1707.2 frames/hour (1444.06 sec. accum.).\n"
     ]
    },
    {
     "name": "stderr",
     "output_type": "stream",
     "text": [
      "  9%|▉         | 93/1001 [04:19<53:11,  3.52s/it]"
     ]
    },
    {
     "name": "stdout",
     "output_type": "stream",
     "text": [
      " Ray: render time: 5.23 sec. = 688.3 frames/hour (1449.29 sec. accum.).\n"
     ]
    },
    {
     "name": "stderr",
     "output_type": "stream",
     "text": [
      "  9%|▉         | 94/1001 [04:22<49:24,  3.27s/it]"
     ]
    },
    {
     "name": "stdout",
     "output_type": "stream",
     "text": [
      " Ray: render time: 2.60 sec. = 1385.2 frames/hour (1451.89 sec. accum.).\n"
     ]
    },
    {
     "name": "stderr",
     "output_type": "stream",
     "text": [
      "  9%|▉         | 95/1001 [04:25<49:23,  3.27s/it]"
     ]
    },
    {
     "name": "stdout",
     "output_type": "stream",
     "text": [
      " Ray: render time: 3.19 sec. = 1129.5 frames/hour (1455.07 sec. accum.).\n"
     ]
    },
    {
     "name": "stderr",
     "output_type": "stream",
     "text": [
      " 10%|▉         | 96/1001 [04:28<47:34,  3.15s/it]"
     ]
    },
    {
     "name": "stdout",
     "output_type": "stream",
     "text": [
      " Ray: render time: 2.79 sec. = 1292.5 frames/hour (1457.86 sec. accum.).\n"
     ]
    },
    {
     "name": "stderr",
     "output_type": "stream",
     "text": [
      " 10%|▉         | 97/1001 [04:31<48:44,  3.23s/it]"
     ]
    },
    {
     "name": "stdout",
     "output_type": "stream",
     "text": [
      " Ray: render time: 3.32 sec. = 1085.5 frames/hour (1461.18 sec. accum.).\n"
     ]
    },
    {
     "name": "stderr",
     "output_type": "stream",
     "text": [
      " 10%|▉         | 98/1001 [04:33<43:59,  2.92s/it]"
     ]
    },
    {
     "name": "stdout",
     "output_type": "stream",
     "text": [
      " Ray: render time: 2.11 sec. = 1708.5 frames/hour (1463.28 sec. accum.).\n"
     ]
    },
    {
     "name": "stderr",
     "output_type": "stream",
     "text": [
      " 10%|▉         | 99/1001 [04:37<45:37,  3.04s/it]"
     ]
    },
    {
     "name": "stdout",
     "output_type": "stream",
     "text": [
      " Ray: render time: 3.19 sec. = 1128.7 frames/hour (1466.47 sec. accum.).\n"
     ]
    },
    {
     "name": "stderr",
     "output_type": "stream",
     "text": [
      " 10%|▉         | 100/1001 [04:40<44:57,  2.99s/it]"
     ]
    },
    {
     "name": "stdout",
     "output_type": "stream",
     "text": [
      " Ray: render time: 2.77 sec. = 1299.6 frames/hour (1469.24 sec. accum.).\n"
     ]
    },
    {
     "name": "stderr",
     "output_type": "stream",
     "text": [
      " 10%|█         | 101/1001 [04:42<43:23,  2.89s/it]"
     ]
    },
    {
     "name": "stdout",
     "output_type": "stream",
     "text": [
      " Ray: render time: 2.58 sec. = 1395.3 frames/hour (1471.82 sec. accum.).\n"
     ]
    },
    {
     "name": "stderr",
     "output_type": "stream",
     "text": [
      " 10%|█         | 102/1001 [04:46<47:30,  3.17s/it]"
     ]
    },
    {
     "name": "stdout",
     "output_type": "stream",
     "text": [
      " Ray: render time: 3.71 sec. = 969.6 frames/hour (1475.54 sec. accum.).\n"
     ]
    },
    {
     "name": "stderr",
     "output_type": "stream",
     "text": [
      " 10%|█         | 103/1001 [04:51<56:11,  3.75s/it]"
     ]
    },
    {
     "name": "stdout",
     "output_type": "stream",
     "text": [
      " Ray: render time: 5.02 sec. = 716.4 frames/hour (1480.56 sec. accum.).\n"
     ]
    },
    {
     "name": "stderr",
     "output_type": "stream",
     "text": [
      " 10%|█         | 104/1001 [04:55<55:30,  3.71s/it]"
     ]
    },
    {
     "name": "stdout",
     "output_type": "stream",
     "text": [
      " Ray: render time: 3.53 sec. = 1020.5 frames/hour (1484.09 sec. accum.).\n"
     ]
    },
    {
     "name": "stderr",
     "output_type": "stream",
     "text": [
      " 10%|█         | 105/1001 [05:01<1:04:32,  4.32s/it]"
     ]
    },
    {
     "name": "stdout",
     "output_type": "stream",
     "text": [
      " Ray: render time: 5.59 sec. = 643.5 frames/hour (1489.68 sec. accum.).\n"
     ]
    },
    {
     "name": "stderr",
     "output_type": "stream",
     "text": [
      " 11%|█         | 106/1001 [05:04<1:01:15,  4.11s/it]"
     ]
    },
    {
     "name": "stdout",
     "output_type": "stream",
     "text": [
      " Ray: render time: 3.52 sec. = 1021.9 frames/hour (1493.21 sec. accum.).\n"
     ]
    },
    {
     "name": "stderr",
     "output_type": "stream",
     "text": [
      " 11%|█         | 107/1001 [05:07<57:36,  3.87s/it]  "
     ]
    },
    {
     "name": "stdout",
     "output_type": "stream",
     "text": [
      " Ray: render time: 3.21 sec. = 1121.5 frames/hour (1496.42 sec. accum.).\n"
     ]
    },
    {
     "name": "stderr",
     "output_type": "stream",
     "text": [
      " 11%|█         | 108/1001 [05:11<58:20,  3.92s/it]"
     ]
    },
    {
     "name": "stdout",
     "output_type": "stream",
     "text": [
      " Ray: render time: 3.96 sec. = 910.1 frames/hour (1500.37 sec. accum.).\n"
     ]
    },
    {
     "name": "stderr",
     "output_type": "stream",
     "text": [
      " 11%|█         | 109/1001 [05:15<57:50,  3.89s/it]"
     ]
    },
    {
     "name": "stdout",
     "output_type": "stream",
     "text": [
      " Ray: render time: 3.74 sec. = 962.8 frames/hour (1504.11 sec. accum.).\n"
     ]
    },
    {
     "name": "stderr",
     "output_type": "stream",
     "text": [
      " 11%|█         | 110/1001 [05:19<56:48,  3.82s/it]"
     ]
    },
    {
     "name": "stdout",
     "output_type": "stream",
     "text": [
      " Ray: render time: 3.56 sec. = 1010.6 frames/hour (1507.67 sec. accum.).\n"
     ]
    },
    {
     "name": "stderr",
     "output_type": "stream",
     "text": [
      " 11%|█         | 111/1001 [05:23<59:51,  4.03s/it]"
     ]
    },
    {
     "name": "stdout",
     "output_type": "stream",
     "text": [
      " Ray: render time: 4.41 sec. = 816.2 frames/hour (1512.08 sec. accum.).\n"
     ]
    },
    {
     "name": "stderr",
     "output_type": "stream",
     "text": [
      " 11%|█         | 112/1001 [05:29<1:04:09,  4.33s/it]"
     ]
    },
    {
     "name": "stdout",
     "output_type": "stream",
     "text": [
      " Ray: render time: 4.90 sec. = 734.7 frames/hour (1516.98 sec. accum.).\n"
     ]
    },
    {
     "name": "stderr",
     "output_type": "stream",
     "text": [
      " 11%|█▏        | 113/1001 [05:33<1:04:41,  4.37s/it]"
     ]
    },
    {
     "name": "stdout",
     "output_type": "stream",
     "text": [
      " Ray: render time: 4.36 sec. = 826.0 frames/hour (1521.34 sec. accum.).\n"
     ]
    },
    {
     "name": "stderr",
     "output_type": "stream",
     "text": [
      " 11%|█▏        | 114/1001 [05:36<57:35,  3.90s/it]  "
     ]
    },
    {
     "name": "stdout",
     "output_type": "stream",
     "text": [
      " Ray: render time: 2.70 sec. = 1331.6 frames/hour (1524.05 sec. accum.).\n"
     ]
    },
    {
     "name": "stderr",
     "output_type": "stream",
     "text": [
      " 11%|█▏        | 115/1001 [05:39<54:02,  3.66s/it]"
     ]
    },
    {
     "name": "stdout",
     "output_type": "stream",
     "text": [
      " Ray: render time: 3.00 sec. = 1199.5 frames/hour (1527.05 sec. accum.).\n"
     ]
    },
    {
     "name": "stderr",
     "output_type": "stream",
     "text": [
      " 12%|█▏        | 116/1001 [05:42<53:45,  3.65s/it]"
     ]
    },
    {
     "name": "stdout",
     "output_type": "stream",
     "text": [
      " Ray: render time: 3.52 sec. = 1024.2 frames/hour (1530.56 sec. accum.).\n"
     ]
    },
    {
     "name": "stderr",
     "output_type": "stream",
     "text": [
      " 12%|█▏        | 117/1001 [05:45<49:26,  3.36s/it]"
     ]
    },
    {
     "name": "stdout",
     "output_type": "stream",
     "text": [
      " Ray: render time: 2.59 sec. = 1388.2 frames/hour (1533.16 sec. accum.).\n"
     ]
    },
    {
     "name": "stderr",
     "output_type": "stream",
     "text": [
      " 12%|█▏        | 118/1001 [05:47<43:39,  2.97s/it]"
     ]
    },
    {
     "name": "stdout",
     "output_type": "stream",
     "text": [
      " Ray: render time: 1.98 sec. = 1814.8 frames/hour (1535.14 sec. accum.).\n"
     ]
    },
    {
     "name": "stderr",
     "output_type": "stream",
     "text": [
      " 12%|█▏        | 119/1001 [05:51<46:26,  3.16s/it]"
     ]
    },
    {
     "name": "stdout",
     "output_type": "stream",
     "text": [
      " Ray: render time: 3.50 sec. = 1027.2 frames/hour (1538.64 sec. accum.).\n"
     ]
    },
    {
     "name": "stderr",
     "output_type": "stream",
     "text": [
      " 12%|█▏        | 120/1001 [05:53<40:35,  2.76s/it]"
     ]
    },
    {
     "name": "stdout",
     "output_type": "stream",
     "text": [
      " Ray: render time: 1.77 sec. = 2028.3 frames/hour (1540.42 sec. accum.).\n"
     ]
    },
    {
     "name": "stderr",
     "output_type": "stream",
     "text": [
      " 12%|█▏        | 121/1001 [05:54<36:21,  2.48s/it]"
     ]
    },
    {
     "name": "stdout",
     "output_type": "stream",
     "text": [
      " Ray: render time: 1.74 sec. = 2063.6 frames/hour (1542.16 sec. accum.).\n"
     ]
    },
    {
     "name": "stderr",
     "output_type": "stream",
     "text": [
      " 12%|█▏        | 122/1001 [05:56<32:49,  2.24s/it]"
     ]
    },
    {
     "name": "stdout",
     "output_type": "stream",
     "text": [
      " Ray: render time: 1.62 sec. = 2216.4 frames/hour (1543.79 sec. accum.).\n"
     ]
    },
    {
     "name": "stderr",
     "output_type": "stream",
     "text": [
      " 12%|█▏        | 123/1001 [05:58<31:53,  2.18s/it]"
     ]
    },
    {
     "name": "stdout",
     "output_type": "stream",
     "text": [
      " Ray: render time: 1.97 sec. = 1831.8 frames/hour (1545.75 sec. accum.).\n"
     ]
    },
    {
     "name": "stderr",
     "output_type": "stream",
     "text": [
      " 12%|█▏        | 124/1001 [06:04<47:09,  3.23s/it]"
     ]
    },
    {
     "name": "stdout",
     "output_type": "stream",
     "text": [
      " Ray: render time: 5.47 sec. = 657.6 frames/hour (1551.23 sec. accum.).\n"
     ]
    },
    {
     "name": "stderr",
     "output_type": "stream",
     "text": [
      " 12%|█▏        | 125/1001 [06:06<43:34,  2.98s/it]"
     ]
    },
    {
     "name": "stdout",
     "output_type": "stream",
     "text": [
      " Ray: render time: 2.34 sec. = 1540.2 frames/hour (1553.56 sec. accum.).\n"
     ]
    },
    {
     "name": "stderr",
     "output_type": "stream",
     "text": [
      " 13%|█▎        | 126/1001 [06:09<41:24,  2.84s/it]"
     ]
    },
    {
     "name": "stdout",
     "output_type": "stream",
     "text": [
      " Ray: render time: 2.40 sec. = 1503.0 frames/hour (1555.96 sec. accum.).\n"
     ]
    },
    {
     "name": "stderr",
     "output_type": "stream",
     "text": [
      " 13%|█▎        | 127/1001 [06:12<42:15,  2.90s/it]"
     ]
    },
    {
     "name": "stdout",
     "output_type": "stream",
     "text": [
      " Ray: render time: 2.97 sec. = 1212.4 frames/hour (1558.93 sec. accum.).\n"
     ]
    },
    {
     "name": "stderr",
     "output_type": "stream",
     "text": [
      " 13%|█▎        | 128/1001 [06:15<45:27,  3.12s/it]"
     ]
    },
    {
     "name": "stdout",
     "output_type": "stream",
     "text": [
      " Ray: render time: 3.57 sec. = 1007.8 frames/hour (1562.50 sec. accum.).\n"
     ]
    },
    {
     "name": "stderr",
     "output_type": "stream",
     "text": [
      " 13%|█▎        | 129/1001 [06:18<44:06,  3.04s/it]"
     ]
    },
    {
     "name": "stdout",
     "output_type": "stream",
     "text": [
      " Ray: render time: 2.72 sec. = 1321.5 frames/hour (1565.23 sec. accum.).\n"
     ]
    },
    {
     "name": "stderr",
     "output_type": "stream",
     "text": [
      " 13%|█▎        | 130/1001 [06:21<42:44,  2.94s/it]"
     ]
    },
    {
     "name": "stdout",
     "output_type": "stream",
     "text": [
      " Ray: render time: 2.64 sec. = 1362.2 frames/hour (1567.87 sec. accum.).\n"
     ]
    },
    {
     "name": "stderr",
     "output_type": "stream",
     "text": [
      " 13%|█▎        | 131/1001 [06:24<43:11,  2.98s/it]"
     ]
    },
    {
     "name": "stdout",
     "output_type": "stream",
     "text": [
      " Ray: render time: 2.98 sec. = 1209.4 frames/hour (1570.85 sec. accum.).\n"
     ]
    },
    {
     "name": "stderr",
     "output_type": "stream",
     "text": [
      " 13%|█▎        | 132/1001 [06:27<44:39,  3.08s/it]"
     ]
    },
    {
     "name": "stdout",
     "output_type": "stream",
     "text": [
      " Ray: render time: 3.21 sec. = 1120.7 frames/hour (1574.06 sec. accum.).\n"
     ]
    },
    {
     "name": "stderr",
     "output_type": "stream",
     "text": [
      " 13%|█▎        | 133/1001 [06:32<49:39,  3.43s/it]"
     ]
    },
    {
     "name": "stdout",
     "output_type": "stream",
     "text": [
      " Ray: render time: 4.13 sec. = 872.1 frames/hour (1578.19 sec. accum.).\n"
     ]
    },
    {
     "name": "stderr",
     "output_type": "stream",
     "text": [
      " 13%|█▎        | 134/1001 [06:36<53:31,  3.70s/it]"
     ]
    },
    {
     "name": "stdout",
     "output_type": "stream",
     "text": [
      " Ray: render time: 4.22 sec. = 852.2 frames/hour (1582.41 sec. accum.).\n"
     ]
    },
    {
     "name": "stderr",
     "output_type": "stream",
     "text": [
      " 13%|█▎        | 135/1001 [06:38<46:32,  3.22s/it]"
     ]
    },
    {
     "name": "stdout",
     "output_type": "stream",
     "text": [
      " Ray: render time: 2.03 sec. = 1776.2 frames/hour (1584.44 sec. accum.).\n"
     ]
    },
    {
     "name": "stderr",
     "output_type": "stream",
     "text": [
      " 14%|█▎        | 136/1001 [06:40<40:55,  2.84s/it]"
     ]
    },
    {
     "name": "stdout",
     "output_type": "stream",
     "text": [
      " Ray: render time: 1.85 sec. = 1950.4 frames/hour (1586.28 sec. accum.).\n"
     ]
    },
    {
     "name": "stderr",
     "output_type": "stream",
     "text": [
      " 14%|█▎        | 137/1001 [06:42<37:05,  2.58s/it]"
     ]
    },
    {
     "name": "stdout",
     "output_type": "stream",
     "text": [
      " Ray: render time: 1.89 sec. = 1908.7 frames/hour (1588.17 sec. accum.).\n"
     ]
    },
    {
     "name": "stderr",
     "output_type": "stream",
     "text": [
      " 14%|█▍        | 138/1001 [06:45<37:06,  2.58s/it]"
     ]
    },
    {
     "name": "stdout",
     "output_type": "stream",
     "text": [
      " Ray: render time: 2.48 sec. = 1450.5 frames/hour (1590.65 sec. accum.).\n"
     ]
    },
    {
     "name": "stderr",
     "output_type": "stream",
     "text": [
      " 14%|█▍        | 139/1001 [06:47<35:06,  2.44s/it]"
     ]
    },
    {
     "name": "stdout",
     "output_type": "stream",
     "text": [
      " Ray: render time: 2.03 sec. = 1773.5 frames/hour (1592.68 sec. accum.).\n"
     ]
    },
    {
     "name": "stderr",
     "output_type": "stream",
     "text": [
      " 14%|█▍        | 140/1001 [06:51<40:52,  2.85s/it]"
     ]
    },
    {
     "name": "stdout",
     "output_type": "stream",
     "text": [
      " Ray: render time: 3.70 sec. = 972.4 frames/hour (1596.38 sec. accum.).\n"
     ]
    },
    {
     "name": "stderr",
     "output_type": "stream",
     "text": [
      " 14%|█▍        | 141/1001 [06:53<37:35,  2.62s/it]"
     ]
    },
    {
     "name": "stdout",
     "output_type": "stream",
     "text": [
      " Ray: render time: 2.00 sec. = 1796.1 frames/hour (1598.39 sec. accum.).\n"
     ]
    },
    {
     "name": "stderr",
     "output_type": "stream",
     "text": [
      " 14%|█▍        | 142/1001 [06:55<35:08,  2.45s/it]"
     ]
    },
    {
     "name": "stdout",
     "output_type": "stream",
     "text": [
      " Ray: render time: 1.98 sec. = 1814.4 frames/hour (1600.37 sec. accum.).\n"
     ]
    },
    {
     "name": "stderr",
     "output_type": "stream",
     "text": [
      " 14%|█▍        | 143/1001 [06:59<44:20,  3.10s/it]"
     ]
    },
    {
     "name": "stdout",
     "output_type": "stream",
     "text": [
      " Ray: render time: 4.52 sec. = 797.0 frames/hour (1604.89 sec. accum.).\n"
     ]
    },
    {
     "name": "stderr",
     "output_type": "stream",
     "text": [
      " 14%|█▍        | 144/1001 [07:02<43:55,  3.08s/it]"
     ]
    },
    {
     "name": "stdout",
     "output_type": "stream",
     "text": [
      " Ray: render time: 2.90 sec. = 1243.1 frames/hour (1607.78 sec. accum.).\n"
     ]
    },
    {
     "name": "stderr",
     "output_type": "stream",
     "text": [
      " 14%|█▍        | 145/1001 [07:04<38:52,  2.73s/it]"
     ]
    },
    {
     "name": "stdout",
     "output_type": "stream",
     "text": [
      " Ray: render time: 1.82 sec. = 1979.7 frames/hour (1609.60 sec. accum.).\n"
     ]
    },
    {
     "name": "stderr",
     "output_type": "stream",
     "text": [
      " 15%|█▍        | 146/1001 [07:08<43:02,  3.02s/it]"
     ]
    },
    {
     "name": "stdout",
     "output_type": "stream",
     "text": [
      " Ray: render time: 3.62 sec. = 994.2 frames/hour (1613.22 sec. accum.).\n"
     ]
    },
    {
     "name": "stderr",
     "output_type": "stream",
     "text": [
      " 15%|█▍        | 147/1001 [07:10<37:56,  2.67s/it]"
     ]
    },
    {
     "name": "stdout",
     "output_type": "stream",
     "text": [
      " Ray: render time: 1.75 sec. = 2056.4 frames/hour (1614.97 sec. accum.).\n"
     ]
    },
    {
     "name": "stderr",
     "output_type": "stream",
     "text": [
      " 15%|█▍        | 148/1001 [07:12<34:25,  2.42s/it]"
     ]
    },
    {
     "name": "stdout",
     "output_type": "stream",
     "text": [
      " Ray: render time: 1.76 sec. = 2040.6 frames/hour (1616.74 sec. accum.).\n"
     ]
    },
    {
     "name": "stderr",
     "output_type": "stream",
     "text": [
      " 15%|█▍        | 149/1001 [07:14<34:38,  2.44s/it]"
     ]
    },
    {
     "name": "stdout",
     "output_type": "stream",
     "text": [
      " Ray: render time: 2.40 sec. = 1500.2 frames/hour (1619.14 sec. accum.).\n"
     ]
    },
    {
     "name": "stderr",
     "output_type": "stream",
     "text": [
      " 15%|█▍        | 150/1001 [07:18<41:06,  2.90s/it]"
     ]
    },
    {
     "name": "stdout",
     "output_type": "stream",
     "text": [
      " Ray: render time: 3.87 sec. = 930.0 frames/hour (1623.01 sec. accum.).\n"
     ]
    },
    {
     "name": "stderr",
     "output_type": "stream",
     "text": [
      " 15%|█▌        | 151/1001 [07:21<40:06,  2.83s/it]"
     ]
    },
    {
     "name": "stdout",
     "output_type": "stream",
     "text": [
      " Ray: render time: 2.57 sec. = 1400.5 frames/hour (1625.58 sec. accum.).\n"
     ]
    },
    {
     "name": "stderr",
     "output_type": "stream",
     "text": [
      " 15%|█▌        | 152/1001 [07:24<40:54,  2.89s/it]"
     ]
    },
    {
     "name": "stdout",
     "output_type": "stream",
     "text": [
      " Ray: render time: 2.94 sec. = 1223.8 frames/hour (1628.52 sec. accum.).\n"
     ]
    },
    {
     "name": "stderr",
     "output_type": "stream",
     "text": [
      " 15%|█▌        | 153/1001 [07:26<39:13,  2.78s/it]"
     ]
    },
    {
     "name": "stdout",
     "output_type": "stream",
     "text": [
      " Ray: render time: 2.41 sec. = 1492.4 frames/hour (1630.93 sec. accum.).\n"
     ]
    },
    {
     "name": "stderr",
     "output_type": "stream",
     "text": [
      " 15%|█▌        | 154/1001 [07:29<38:45,  2.75s/it]"
     ]
    },
    {
     "name": "stdout",
     "output_type": "stream",
     "text": [
      " Ray: render time: 2.61 sec. = 1381.1 frames/hour (1633.54 sec. accum.).\n"
     ]
    },
    {
     "name": "stderr",
     "output_type": "stream",
     "text": [
      " 15%|█▌        | 155/1001 [07:31<34:19,  2.43s/it]"
     ]
    },
    {
     "name": "stdout",
     "output_type": "stream",
     "text": [
      " Ray: render time: 1.63 sec. = 2212.7 frames/hour (1635.17 sec. accum.).\n"
     ]
    },
    {
     "name": "stderr",
     "output_type": "stream",
     "text": [
      " 16%|█▌        | 156/1001 [07:34<39:00,  2.77s/it]"
     ]
    },
    {
     "name": "stdout",
     "output_type": "stream",
     "text": [
      " Ray: render time: 3.44 sec. = 1047.8 frames/hour (1638.60 sec. accum.).\n"
     ]
    },
    {
     "name": "stderr",
     "output_type": "stream",
     "text": [
      " 16%|█▌        | 157/1001 [07:38<45:03,  3.20s/it]"
     ]
    },
    {
     "name": "stdout",
     "output_type": "stream",
     "text": [
      " Ray: render time: 4.11 sec. = 876.3 frames/hour (1642.71 sec. accum.).\n"
     ]
    },
    {
     "name": "stderr",
     "output_type": "stream",
     "text": [
      " 16%|█▌        | 158/1001 [07:41<42:11,  3.00s/it]"
     ]
    },
    {
     "name": "stdout",
     "output_type": "stream",
     "text": [
      " Ray: render time: 2.45 sec. = 1471.0 frames/hour (1645.16 sec. accum.).\n"
     ]
    },
    {
     "name": "stderr",
     "output_type": "stream",
     "text": [
      " 16%|█▌        | 159/1001 [07:45<46:12,  3.29s/it]"
     ]
    },
    {
     "name": "stdout",
     "output_type": "stream",
     "text": [
      " Ray: render time: 3.84 sec. = 937.6 frames/hour (1649.00 sec. accum.).\n"
     ]
    },
    {
     "name": "stderr",
     "output_type": "stream",
     "text": [
      " 16%|█▌        | 160/1001 [07:47<39:06,  2.79s/it]"
     ]
    },
    {
     "name": "stdout",
     "output_type": "stream",
     "text": [
      " Ray: render time: 1.56 sec. = 2303.2 frames/hour (1650.56 sec. accum.).\n"
     ]
    },
    {
     "name": "stderr",
     "output_type": "stream",
     "text": [
      " 16%|█▌        | 161/1001 [07:49<37:26,  2.67s/it]"
     ]
    },
    {
     "name": "stdout",
     "output_type": "stream",
     "text": [
      " Ray: render time: 2.30 sec. = 1564.8 frames/hour (1652.86 sec. accum.).\n"
     ]
    },
    {
     "name": "stderr",
     "output_type": "stream",
     "text": [
      " 16%|█▌        | 162/1001 [07:53<43:35,  3.12s/it]"
     ]
    },
    {
     "name": "stdout",
     "output_type": "stream",
     "text": [
      " Ray: render time: 4.03 sec. = 893.3 frames/hour (1656.89 sec. accum.).\n"
     ]
    },
    {
     "name": "stderr",
     "output_type": "stream",
     "text": [
      " 16%|█▋        | 163/1001 [07:56<44:11,  3.16s/it]"
     ]
    },
    {
     "name": "stdout",
     "output_type": "stream",
     "text": [
      " Ray: render time: 3.18 sec. = 1130.4 frames/hour (1660.08 sec. accum.).\n"
     ]
    },
    {
     "name": "stderr",
     "output_type": "stream",
     "text": [
      " 16%|█▋        | 164/1001 [07:58<37:05,  2.66s/it]"
     ]
    },
    {
     "name": "stdout",
     "output_type": "stream",
     "text": [
      " Ray: render time: 1.39 sec. = 2586.8 frames/hour (1661.47 sec. accum.).\n"
     ]
    },
    {
     "name": "stderr",
     "output_type": "stream",
     "text": [
      " 16%|█▋        | 165/1001 [08:01<37:40,  2.70s/it]"
     ]
    },
    {
     "name": "stdout",
     "output_type": "stream",
     "text": [
      " Ray: render time: 2.72 sec. = 1323.2 frames/hour (1664.19 sec. accum.).\n"
     ]
    },
    {
     "name": "stderr",
     "output_type": "stream",
     "text": [
      " 17%|█▋        | 166/1001 [08:03<35:45,  2.57s/it]"
     ]
    },
    {
     "name": "stdout",
     "output_type": "stream",
     "text": [
      " Ray: render time: 2.17 sec. = 1657.4 frames/hour (1666.36 sec. accum.).\n"
     ]
    },
    {
     "name": "stderr",
     "output_type": "stream",
     "text": [
      " 17%|█▋        | 167/1001 [08:05<35:38,  2.56s/it]"
     ]
    },
    {
     "name": "stdout",
     "output_type": "stream",
     "text": [
      " Ray: render time: 2.49 sec. = 1446.5 frames/hour (1668.85 sec. accum.).\n"
     ]
    },
    {
     "name": "stderr",
     "output_type": "stream",
     "text": [
      " 17%|█▋        | 168/1001 [08:09<40:23,  2.91s/it]"
     ]
    },
    {
     "name": "stdout",
     "output_type": "stream",
     "text": [
      " Ray: render time: 3.61 sec. = 995.9 frames/hour (1672.46 sec. accum.).\n"
     ]
    },
    {
     "name": "stderr",
     "output_type": "stream",
     "text": [
      " 17%|█▋        | 169/1001 [08:12<40:57,  2.95s/it]"
     ]
    },
    {
     "name": "stdout",
     "output_type": "stream",
     "text": [
      " Ray: render time: 2.95 sec. = 1219.8 frames/hour (1675.41 sec. accum.).\n"
     ]
    },
    {
     "name": "stderr",
     "output_type": "stream",
     "text": [
      " 17%|█▋        | 170/1001 [08:15<40:12,  2.90s/it]"
     ]
    },
    {
     "name": "stdout",
     "output_type": "stream",
     "text": [
      " Ray: render time: 2.67 sec. = 1350.1 frames/hour (1678.08 sec. accum.).\n"
     ]
    },
    {
     "name": "stderr",
     "output_type": "stream",
     "text": [
      " 17%|█▋        | 171/1001 [08:19<44:10,  3.19s/it]"
     ]
    },
    {
     "name": "stdout",
     "output_type": "stream",
     "text": [
      " Ray: render time: 3.71 sec. = 970.1 frames/hour (1681.79 sec. accum.).\n"
     ]
    },
    {
     "name": "stderr",
     "output_type": "stream",
     "text": [
      " 17%|█▋        | 172/1001 [08:22<45:30,  3.29s/it]"
     ]
    },
    {
     "name": "stdout",
     "output_type": "stream",
     "text": [
      " Ray: render time: 3.42 sec. = 1052.7 frames/hour (1685.21 sec. accum.).\n"
     ]
    },
    {
     "name": "stderr",
     "output_type": "stream",
     "text": [
      " 17%|█▋        | 173/1001 [08:25<44:27,  3.22s/it]"
     ]
    },
    {
     "name": "stdout",
     "output_type": "stream",
     "text": [
      " Ray: render time: 2.91 sec. = 1236.0 frames/hour (1688.12 sec. accum.).\n"
     ]
    },
    {
     "name": "stderr",
     "output_type": "stream",
     "text": [
      " 17%|█▋        | 174/1001 [08:28<40:06,  2.91s/it]"
     ]
    },
    {
     "name": "stdout",
     "output_type": "stream",
     "text": [
      " Ray: render time: 2.11 sec. = 1706.7 frames/hour (1690.23 sec. accum.).\n"
     ]
    },
    {
     "name": "stderr",
     "output_type": "stream",
     "text": [
      " 17%|█▋        | 175/1001 [08:30<37:05,  2.69s/it]"
     ]
    },
    {
     "name": "stdout",
     "output_type": "stream",
     "text": [
      " Ray: render time: 2.13 sec. = 1690.5 frames/hour (1692.36 sec. accum.).\n"
     ]
    },
    {
     "name": "stderr",
     "output_type": "stream",
     "text": [
      " 18%|█▊        | 176/1001 [08:33<37:32,  2.73s/it]"
     ]
    },
    {
     "name": "stdout",
     "output_type": "stream",
     "text": [
      " Ray: render time: 2.72 sec. = 1324.2 frames/hour (1695.08 sec. accum.).\n"
     ]
    },
    {
     "name": "stderr",
     "output_type": "stream",
     "text": [
      " 18%|█▊        | 177/1001 [08:35<35:57,  2.62s/it]"
     ]
    },
    {
     "name": "stdout",
     "output_type": "stream",
     "text": [
      " Ray: render time: 2.25 sec. = 1597.6 frames/hour (1697.34 sec. accum.).\n"
     ]
    },
    {
     "name": "stderr",
     "output_type": "stream",
     "text": [
      " 18%|█▊        | 178/1001 [08:38<37:21,  2.72s/it]"
     ]
    },
    {
     "name": "stdout",
     "output_type": "stream",
     "text": [
      " Ray: render time: 2.87 sec. = 1253.8 frames/hour (1700.21 sec. accum.).\n"
     ]
    },
    {
     "name": "stderr",
     "output_type": "stream",
     "text": [
      " 18%|█▊        | 179/1001 [08:39<31:59,  2.34s/it]"
     ]
    },
    {
     "name": "stdout",
     "output_type": "stream",
     "text": [
      " Ray: render time: 1.34 sec. = 2685.3 frames/hour (1701.55 sec. accum.).\n"
     ]
    },
    {
     "name": "stderr",
     "output_type": "stream",
     "text": [
      " 18%|█▊        | 180/1001 [08:43<35:25,  2.59s/it]"
     ]
    },
    {
     "name": "stdout",
     "output_type": "stream",
     "text": [
      " Ray: render time: 3.11 sec. = 1158.2 frames/hour (1704.66 sec. accum.).\n"
     ]
    },
    {
     "name": "stderr",
     "output_type": "stream",
     "text": [
      " 18%|█▊        | 181/1001 [08:46<40:18,  2.95s/it]"
     ]
    },
    {
     "name": "stdout",
     "output_type": "stream",
     "text": [
      " Ray: render time: 3.68 sec. = 978.9 frames/hour (1708.33 sec. accum.).\n"
     ]
    },
    {
     "name": "stderr",
     "output_type": "stream",
     "text": [
      " 18%|█▊        | 182/1001 [08:50<41:45,  3.06s/it]"
     ]
    },
    {
     "name": "stdout",
     "output_type": "stream",
     "text": [
      " Ray: render time: 3.22 sec. = 1118.1 frames/hour (1711.55 sec. accum.).\n"
     ]
    },
    {
     "name": "stderr",
     "output_type": "stream",
     "text": [
      " 18%|█▊        | 183/1001 [08:53<40:41,  2.98s/it]"
     ]
    },
    {
     "name": "stdout",
     "output_type": "stream",
     "text": [
      " Ray: render time: 2.71 sec. = 1326.1 frames/hour (1714.27 sec. accum.).\n"
     ]
    },
    {
     "name": "stderr",
     "output_type": "stream",
     "text": [
      " 18%|█▊        | 184/1001 [08:57<47:32,  3.49s/it]"
     ]
    },
    {
     "name": "stdout",
     "output_type": "stream",
     "text": [
      " Ray: render time: 4.57 sec. = 787.5 frames/hour (1718.84 sec. accum.).\n"
     ]
    },
    {
     "name": "stderr",
     "output_type": "stream",
     "text": [
      " 18%|█▊        | 185/1001 [09:01<46:49,  3.44s/it]"
     ]
    },
    {
     "name": "stdout",
     "output_type": "stream",
     "text": [
      " Ray: render time: 3.22 sec. = 1117.6 frames/hour (1722.06 sec. accum.).\n"
     ]
    },
    {
     "name": "stderr",
     "output_type": "stream",
     "text": [
      " 19%|█▊        | 186/1001 [09:03<41:10,  3.03s/it]"
     ]
    },
    {
     "name": "stdout",
     "output_type": "stream",
     "text": [
      " Ray: render time: 1.96 sec. = 1838.3 frames/hour (1724.02 sec. accum.).\n"
     ]
    },
    {
     "name": "stderr",
     "output_type": "stream",
     "text": [
      " 19%|█▊        | 187/1001 [09:06<41:01,  3.02s/it]"
     ]
    },
    {
     "name": "stdout",
     "output_type": "stream",
     "text": [
      " Ray: render time: 2.90 sec. = 1241.4 frames/hour (1726.92 sec. accum.).\n"
     ]
    },
    {
     "name": "stderr",
     "output_type": "stream",
     "text": [
      " 19%|█▉        | 188/1001 [09:10<46:55,  3.46s/it]"
     ]
    },
    {
     "name": "stdout",
     "output_type": "stream",
     "text": [
      " Ray: render time: 4.40 sec. = 818.6 frames/hour (1731.32 sec. accum.).\n"
     ]
    },
    {
     "name": "stderr",
     "output_type": "stream",
     "text": [
      " 19%|█▉        | 189/1001 [09:13<44:11,  3.27s/it]"
     ]
    },
    {
     "name": "stdout",
     "output_type": "stream",
     "text": [
      " Ray: render time: 2.68 sec. = 1342.0 frames/hour (1734.00 sec. accum.).\n"
     ]
    },
    {
     "name": "stderr",
     "output_type": "stream",
     "text": [
      " 19%|█▉        | 190/1001 [09:15<39:06,  2.89s/it]"
     ]
    },
    {
     "name": "stdout",
     "output_type": "stream",
     "text": [
      " Ray: render time: 1.94 sec. = 1860.2 frames/hour (1735.93 sec. accum.).\n"
     ]
    },
    {
     "name": "stderr",
     "output_type": "stream",
     "text": [
      " 19%|█▉        | 191/1001 [09:17<37:35,  2.78s/it]"
     ]
    },
    {
     "name": "stdout",
     "output_type": "stream",
     "text": [
      " Ray: render time: 2.43 sec. = 1479.1 frames/hour (1738.37 sec. accum.).\n"
     ]
    },
    {
     "name": "stderr",
     "output_type": "stream",
     "text": [
      " 19%|█▉        | 192/1001 [09:20<36:04,  2.68s/it]"
     ]
    },
    {
     "name": "stdout",
     "output_type": "stream",
     "text": [
      " Ray: render time: 2.36 sec. = 1527.6 frames/hour (1740.72 sec. accum.).\n"
     ]
    },
    {
     "name": "stderr",
     "output_type": "stream",
     "text": [
      " 19%|█▉        | 193/1001 [09:22<31:52,  2.37s/it]"
     ]
    },
    {
     "name": "stdout",
     "output_type": "stream",
     "text": [
      " Ray: render time: 1.57 sec. = 2286.7 frames/hour (1742.30 sec. accum.).\n"
     ]
    },
    {
     "name": "stderr",
     "output_type": "stream",
     "text": [
      " 19%|█▉        | 194/1001 [09:23<29:38,  2.20s/it]"
     ]
    },
    {
     "name": "stdout",
     "output_type": "stream",
     "text": [
      " Ray: render time: 1.74 sec. = 2073.2 frames/hour (1744.04 sec. accum.).\n"
     ]
    },
    {
     "name": "stderr",
     "output_type": "stream",
     "text": [
      " 19%|█▉        | 195/1001 [09:25<28:32,  2.12s/it]"
     ]
    },
    {
     "name": "stdout",
     "output_type": "stream",
     "text": [
      " Ray: render time: 1.85 sec. = 1949.6 frames/hour (1745.88 sec. accum.).\n"
     ]
    },
    {
     "name": "stderr",
     "output_type": "stream",
     "text": [
      " 20%|█▉        | 196/1001 [09:27<27:08,  2.02s/it]"
     ]
    },
    {
     "name": "stdout",
     "output_type": "stream",
     "text": [
      " Ray: render time: 1.72 sec. = 2095.3 frames/hour (1747.60 sec. accum.).\n"
     ]
    },
    {
     "name": "stderr",
     "output_type": "stream",
     "text": [
      " 20%|█▉        | 197/1001 [09:29<27:03,  2.02s/it]"
     ]
    },
    {
     "name": "stdout",
     "output_type": "stream",
     "text": [
      " Ray: render time: 1.90 sec. = 1895.5 frames/hour (1749.50 sec. accum.).\n"
     ]
    },
    {
     "name": "stderr",
     "output_type": "stream",
     "text": [
      " 20%|█▉        | 198/1001 [09:31<26:24,  1.97s/it]"
     ]
    },
    {
     "name": "stdout",
     "output_type": "stream",
     "text": [
      " Ray: render time: 1.79 sec. = 2011.6 frames/hour (1751.29 sec. accum.).\n"
     ]
    },
    {
     "name": "stderr",
     "output_type": "stream",
     "text": [
      " 20%|█▉        | 199/1001 [09:33<25:34,  1.91s/it]"
     ]
    },
    {
     "name": "stdout",
     "output_type": "stream",
     "text": [
      " Ray: render time: 1.64 sec. = 2195.1 frames/hour (1752.93 sec. accum.).\n"
     ]
    },
    {
     "name": "stderr",
     "output_type": "stream",
     "text": [
      " 20%|█▉        | 200/1001 [09:35<26:38,  2.00s/it]"
     ]
    },
    {
     "name": "stdout",
     "output_type": "stream",
     "text": [
      " Ray: render time: 2.12 sec. = 1698.6 frames/hour (1755.05 sec. accum.).\n"
     ]
    },
    {
     "name": "stderr",
     "output_type": "stream",
     "text": [
      " 20%|██        | 201/1001 [09:38<29:13,  2.19s/it]"
     ]
    },
    {
     "name": "stdout",
     "output_type": "stream",
     "text": [
      " Ray: render time: 2.57 sec. = 1398.2 frames/hour (1757.62 sec. accum.).\n"
     ]
    },
    {
     "name": "stderr",
     "output_type": "stream",
     "text": [
      " 20%|██        | 202/1001 [09:40<30:39,  2.30s/it]"
     ]
    },
    {
     "name": "stdout",
     "output_type": "stream",
     "text": [
      " Ray: render time: 2.46 sec. = 1463.9 frames/hour (1760.08 sec. accum.).\n"
     ]
    },
    {
     "name": "stderr",
     "output_type": "stream",
     "text": [
      " 20%|██        | 203/1001 [09:43<31:44,  2.39s/it]"
     ]
    },
    {
     "name": "stdout",
     "output_type": "stream",
     "text": [
      " Ray: render time: 2.49 sec. = 1445.8 frames/hour (1762.57 sec. accum.).\n"
     ]
    },
    {
     "name": "stderr",
     "output_type": "stream",
     "text": [
      " 20%|██        | 204/1001 [09:44<29:11,  2.20s/it]"
     ]
    },
    {
     "name": "stdout",
     "output_type": "stream",
     "text": [
      " Ray: render time: 1.68 sec. = 2138.5 frames/hour (1764.26 sec. accum.).\n"
     ]
    },
    {
     "name": "stderr",
     "output_type": "stream",
     "text": [
      " 20%|██        | 205/1001 [09:47<29:06,  2.19s/it]"
     ]
    },
    {
     "name": "stdout",
     "output_type": "stream",
     "text": [
      " Ray: render time: 2.08 sec. = 1729.6 frames/hour (1766.34 sec. accum.).\n"
     ]
    },
    {
     "name": "stderr",
     "output_type": "stream",
     "text": [
      " 21%|██        | 206/1001 [09:50<32:37,  2.46s/it]"
     ]
    },
    {
     "name": "stdout",
     "output_type": "stream",
     "text": [
      " Ray: render time: 3.01 sec. = 1196.7 frames/hour (1769.35 sec. accum.).\n"
     ]
    },
    {
     "name": "stderr",
     "output_type": "stream",
     "text": [
      " 21%|██        | 207/1001 [09:52<31:06,  2.35s/it]"
     ]
    },
    {
     "name": "stdout",
     "output_type": "stream",
     "text": [
      " Ray: render time: 2.00 sec. = 1799.5 frames/hour (1771.35 sec. accum.).\n"
     ]
    },
    {
     "name": "stderr",
     "output_type": "stream",
     "text": [
      " 21%|██        | 208/1001 [09:53<27:04,  2.05s/it]"
     ]
    },
    {
     "name": "stdout",
     "output_type": "stream",
     "text": [
      " Ray: render time: 1.28 sec. = 2809.5 frames/hour (1772.63 sec. accum.).\n"
     ]
    },
    {
     "name": "stderr",
     "output_type": "stream",
     "text": [
      " 21%|██        | 209/1001 [09:56<29:04,  2.20s/it]"
     ]
    },
    {
     "name": "stdout",
     "output_type": "stream",
     "text": [
      " Ray: render time: 2.48 sec. = 1453.1 frames/hour (1775.10 sec. accum.).\n"
     ]
    },
    {
     "name": "stderr",
     "output_type": "stream",
     "text": [
      " 21%|██        | 210/1001 [09:58<29:57,  2.27s/it]"
     ]
    },
    {
     "name": "stdout",
     "output_type": "stream",
     "text": [
      " Ray: render time: 2.34 sec. = 1536.2 frames/hour (1777.45 sec. accum.).\n"
     ]
    },
    {
     "name": "stderr",
     "output_type": "stream",
     "text": [
      " 21%|██        | 211/1001 [10:01<31:29,  2.39s/it]"
     ]
    },
    {
     "name": "stdout",
     "output_type": "stream",
     "text": [
      " Ray: render time: 2.58 sec. = 1393.6 frames/hour (1780.03 sec. accum.).\n"
     ]
    },
    {
     "name": "stderr",
     "output_type": "stream",
     "text": [
      " 21%|██        | 212/1001 [10:04<33:42,  2.56s/it]"
     ]
    },
    {
     "name": "stdout",
     "output_type": "stream",
     "text": [
      " Ray: render time: 2.84 sec. = 1267.3 frames/hour (1782.87 sec. accum.).\n"
     ]
    },
    {
     "name": "stderr",
     "output_type": "stream",
     "text": [
      " 21%|██▏       | 213/1001 [10:06<31:08,  2.37s/it]"
     ]
    },
    {
     "name": "stdout",
     "output_type": "stream",
     "text": [
      " Ray: render time: 1.85 sec. = 1945.4 frames/hour (1784.72 sec. accum.).\n"
     ]
    },
    {
     "name": "stderr",
     "output_type": "stream",
     "text": [
      " 21%|██▏       | 214/1001 [10:08<30:15,  2.31s/it]"
     ]
    },
    {
     "name": "stdout",
     "output_type": "stream",
     "text": [
      " Ray: render time: 2.09 sec. = 1725.4 frames/hour (1786.81 sec. accum.).\n"
     ]
    },
    {
     "name": "stderr",
     "output_type": "stream",
     "text": [
      " 21%|██▏       | 215/1001 [10:11<32:56,  2.51s/it]"
     ]
    },
    {
     "name": "stdout",
     "output_type": "stream",
     "text": [
      " Ray: render time: 2.91 sec. = 1235.5 frames/hour (1789.72 sec. accum.).\n"
     ]
    },
    {
     "name": "stderr",
     "output_type": "stream",
     "text": [
      " 22%|██▏       | 216/1001 [10:13<33:04,  2.53s/it]"
     ]
    },
    {
     "name": "stdout",
     "output_type": "stream",
     "text": [
      " Ray: render time: 2.48 sec. = 1449.0 frames/hour (1792.21 sec. accum.).\n"
     ]
    },
    {
     "name": "stderr",
     "output_type": "stream",
     "text": [
      " 22%|██▏       | 217/1001 [10:15<28:00,  2.14s/it]"
     ]
    },
    {
     "name": "stdout",
     "output_type": "stream",
     "text": [
      " Ray: render time: 1.18 sec. = 3055.6 frames/hour (1793.39 sec. accum.).\n"
     ]
    },
    {
     "name": "stderr",
     "output_type": "stream",
     "text": [
      " 22%|██▏       | 218/1001 [10:17<28:28,  2.18s/it]"
     ]
    },
    {
     "name": "stdout",
     "output_type": "stream",
     "text": [
      " Ray: render time: 2.18 sec. = 1653.8 frames/hour (1795.56 sec. accum.).\n"
     ]
    },
    {
     "name": "stderr",
     "output_type": "stream",
     "text": [
      " 22%|██▏       | 219/1001 [10:19<27:16,  2.09s/it]"
     ]
    },
    {
     "name": "stdout",
     "output_type": "stream",
     "text": [
      " Ray: render time: 1.82 sec. = 1979.5 frames/hour (1797.38 sec. accum.).\n"
     ]
    },
    {
     "name": "stderr",
     "output_type": "stream",
     "text": [
      " 22%|██▏       | 220/1001 [10:21<26:25,  2.03s/it]"
     ]
    },
    {
     "name": "stdout",
     "output_type": "stream",
     "text": [
      " Ray: render time: 1.83 sec. = 1971.1 frames/hour (1799.21 sec. accum.).\n"
     ]
    },
    {
     "name": "stderr",
     "output_type": "stream",
     "text": [
      " 22%|██▏       | 221/1001 [10:23<27:14,  2.10s/it]"
     ]
    },
    {
     "name": "stdout",
     "output_type": "stream",
     "text": [
      " Ray: render time: 2.14 sec. = 1682.4 frames/hour (1801.35 sec. accum.).\n"
     ]
    },
    {
     "name": "stderr",
     "output_type": "stream",
     "text": [
      " 22%|██▏       | 222/1001 [10:26<29:54,  2.30s/it]"
     ]
    },
    {
     "name": "stdout",
     "output_type": "stream",
     "text": [
      " Ray: render time: 2.67 sec. = 1345.9 frames/hour (1804.02 sec. accum.).\n"
     ]
    },
    {
     "name": "stderr",
     "output_type": "stream",
     "text": [
      " 22%|██▏       | 223/1001 [10:27<25:54,  2.00s/it]"
     ]
    },
    {
     "name": "stdout",
     "output_type": "stream",
     "text": [
      " Ray: render time: 1.21 sec. = 2963.2 frames/hour (1805.24 sec. accum.).\n"
     ]
    },
    {
     "name": "stderr",
     "output_type": "stream",
     "text": [
      " 22%|██▏       | 224/1001 [10:29<26:43,  2.06s/it]"
     ]
    },
    {
     "name": "stdout",
     "output_type": "stream",
     "text": [
      " Ray: render time: 2.10 sec. = 1711.2 frames/hour (1807.34 sec. accum.).\n"
     ]
    },
    {
     "name": "stderr",
     "output_type": "stream",
     "text": [
      " 22%|██▏       | 225/1001 [10:31<25:27,  1.97s/it]"
     ]
    },
    {
     "name": "stdout",
     "output_type": "stream",
     "text": [
      " Ray: render time: 1.70 sec. = 2121.3 frames/hour (1809.04 sec. accum.).\n"
     ]
    },
    {
     "name": "stderr",
     "output_type": "stream",
     "text": [
      " 23%|██▎       | 226/1001 [10:33<25:47,  2.00s/it]"
     ]
    },
    {
     "name": "stdout",
     "output_type": "stream",
     "text": [
      " Ray: render time: 1.98 sec. = 1822.3 frames/hour (1811.01 sec. accum.).\n"
     ]
    },
    {
     "name": "stderr",
     "output_type": "stream",
     "text": [
      " 23%|██▎       | 227/1001 [10:35<24:31,  1.90s/it]"
     ]
    },
    {
     "name": "stdout",
     "output_type": "stream",
     "text": [
      " Ray: render time: 1.61 sec. = 2230.8 frames/hour (1812.63 sec. accum.).\n"
     ]
    },
    {
     "name": "stderr",
     "output_type": "stream",
     "text": [
      " 23%|██▎       | 228/1001 [10:37<24:22,  1.89s/it]"
     ]
    },
    {
     "name": "stdout",
     "output_type": "stream",
     "text": [
      " Ray: render time: 1.77 sec. = 2029.2 frames/hour (1814.40 sec. accum.).\n"
     ]
    },
    {
     "name": "stderr",
     "output_type": "stream",
     "text": [
      " 23%|██▎       | 229/1001 [10:39<27:45,  2.16s/it]"
     ]
    },
    {
     "name": "stdout",
     "output_type": "stream",
     "text": [
      " Ray: render time: 2.69 sec. = 1339.3 frames/hour (1817.09 sec. accum.).\n"
     ]
    },
    {
     "name": "stderr",
     "output_type": "stream",
     "text": [
      " 23%|██▎       | 230/1001 [10:41<24:38,  1.92s/it]"
     ]
    },
    {
     "name": "stdout",
     "output_type": "stream",
     "text": [
      " Ray: render time: 1.29 sec. = 2791.8 frames/hour (1818.38 sec. accum.).\n"
     ]
    },
    {
     "name": "stderr",
     "output_type": "stream",
     "text": [
      " 23%|██▎       | 231/1001 [10:43<25:28,  1.98s/it]"
     ]
    },
    {
     "name": "stdout",
     "output_type": "stream",
     "text": [
      " Ray: render time: 2.07 sec. = 1735.0 frames/hour (1820.45 sec. accum.).\n"
     ]
    },
    {
     "name": "stderr",
     "output_type": "stream",
     "text": [
      " 23%|██▎       | 232/1001 [10:45<25:45,  2.01s/it]"
     ]
    },
    {
     "name": "stdout",
     "output_type": "stream",
     "text": [
      " Ray: render time: 2.00 sec. = 1796.5 frames/hour (1822.46 sec. accum.).\n"
     ]
    },
    {
     "name": "stderr",
     "output_type": "stream",
     "text": [
      " 23%|██▎       | 233/1001 [10:49<32:01,  2.50s/it]"
     ]
    },
    {
     "name": "stdout",
     "output_type": "stream",
     "text": [
      " Ray: render time: 3.56 sec. = 1012.5 frames/hour (1826.01 sec. accum.).\n"
     ]
    },
    {
     "name": "stderr",
     "output_type": "stream",
     "text": [
      " 23%|██▎       | 234/1001 [10:51<32:06,  2.51s/it]"
     ]
    },
    {
     "name": "stdout",
     "output_type": "stream",
     "text": [
      " Ray: render time: 2.47 sec. = 1459.5 frames/hour (1828.48 sec. accum.).\n"
     ]
    },
    {
     "name": "stderr",
     "output_type": "stream",
     "text": [
      " 23%|██▎       | 235/1001 [10:55<36:57,  2.90s/it]"
     ]
    },
    {
     "name": "stdout",
     "output_type": "stream",
     "text": [
      " Ray: render time: 3.70 sec. = 971.9 frames/hour (1832.18 sec. accum.).\n"
     ]
    },
    {
     "name": "stderr",
     "output_type": "stream",
     "text": [
      " 24%|██▎       | 236/1001 [10:58<35:40,  2.80s/it]"
     ]
    },
    {
     "name": "stdout",
     "output_type": "stream",
     "text": [
      " Ray: render time: 2.47 sec. = 1459.6 frames/hour (1834.65 sec. accum.).\n"
     ]
    },
    {
     "name": "stderr",
     "output_type": "stream",
     "text": [
      " 24%|██▎       | 237/1001 [10:59<31:43,  2.49s/it]"
     ]
    },
    {
     "name": "stdout",
     "output_type": "stream",
     "text": [
      " Ray: render time: 1.71 sec. = 2103.7 frames/hour (1836.36 sec. accum.).\n"
     ]
    },
    {
     "name": "stderr",
     "output_type": "stream",
     "text": [
      " 24%|██▍       | 238/1001 [11:01<29:49,  2.35s/it]"
     ]
    },
    {
     "name": "stdout",
     "output_type": "stream",
     "text": [
      " Ray: render time: 1.92 sec. = 1870.8 frames/hour (1838.29 sec. accum.).\n"
     ]
    },
    {
     "name": "stderr",
     "output_type": "stream",
     "text": [
      " 24%|██▍       | 239/1001 [11:04<29:25,  2.32s/it]"
     ]
    },
    {
     "name": "stdout",
     "output_type": "stream",
     "text": [
      " Ray: render time: 2.15 sec. = 1676.2 frames/hour (1840.43 sec. accum.).\n"
     ]
    },
    {
     "name": "stderr",
     "output_type": "stream",
     "text": [
      " 24%|██▍       | 240/1001 [11:07<33:43,  2.66s/it]"
     ]
    },
    {
     "name": "stdout",
     "output_type": "stream",
     "text": [
      " Ray: render time: 3.27 sec. = 1101.6 frames/hour (1843.70 sec. accum.).\n"
     ]
    },
    {
     "name": "stderr",
     "output_type": "stream",
     "text": [
      " 24%|██▍       | 241/1001 [11:11<39:09,  3.09s/it]"
     ]
    },
    {
     "name": "stdout",
     "output_type": "stream",
     "text": [
      " Ray: render time: 3.99 sec. = 902.4 frames/hour (1847.69 sec. accum.).\n"
     ]
    },
    {
     "name": "stderr",
     "output_type": "stream",
     "text": [
      " 24%|██▍       | 242/1001 [11:14<38:05,  3.01s/it]"
     ]
    },
    {
     "name": "stdout",
     "output_type": "stream",
     "text": [
      " Ray: render time: 2.73 sec. = 1320.9 frames/hour (1850.42 sec. accum.).\n"
     ]
    },
    {
     "name": "stderr",
     "output_type": "stream",
     "text": [
      " 24%|██▍       | 243/1001 [11:18<41:48,  3.31s/it]"
     ]
    },
    {
     "name": "stdout",
     "output_type": "stream",
     "text": [
      " Ray: render time: 3.90 sec. = 922.0 frames/hour (1854.32 sec. accum.).\n"
     ]
    },
    {
     "name": "stderr",
     "output_type": "stream",
     "text": [
      " 24%|██▍       | 244/1001 [11:23<46:40,  3.70s/it]"
     ]
    },
    {
     "name": "stdout",
     "output_type": "stream",
     "text": [
      " Ray: render time: 4.52 sec. = 797.2 frames/hour (1858.84 sec. accum.).\n"
     ]
    },
    {
     "name": "stderr",
     "output_type": "stream",
     "text": [
      " 24%|██▍       | 245/1001 [11:25<41:16,  3.28s/it]"
     ]
    },
    {
     "name": "stdout",
     "output_type": "stream",
     "text": [
      " Ray: render time: 2.17 sec. = 1662.7 frames/hour (1861.00 sec. accum.).\n"
     ]
    },
    {
     "name": "stderr",
     "output_type": "stream",
     "text": [
      " 25%|██▍       | 246/1001 [11:28<40:16,  3.20s/it]"
     ]
    },
    {
     "name": "stdout",
     "output_type": "stream",
     "text": [
      " Ray: render time: 2.93 sec. = 1228.1 frames/hour (1863.93 sec. accum.).\n"
     ]
    },
    {
     "name": "stderr",
     "output_type": "stream",
     "text": [
      " 25%|██▍       | 247/1001 [11:30<37:33,  2.99s/it]"
     ]
    },
    {
     "name": "stdout",
     "output_type": "stream",
     "text": [
      " Ray: render time: 2.42 sec. = 1485.8 frames/hour (1866.36 sec. accum.).\n"
     ]
    },
    {
     "name": "stderr",
     "output_type": "stream",
     "text": [
      " 25%|██▍       | 248/1001 [11:33<37:18,  2.97s/it]"
     ]
    },
    {
     "name": "stdout",
     "output_type": "stream",
     "text": [
      " Ray: render time: 2.84 sec. = 1266.7 frames/hour (1869.20 sec. accum.).\n",
      " Ray: render time: 3.45 sec. = 1043.1 frames/hour (1872.65 sec. accum.).\n"
     ]
    },
    {
     "name": "stderr",
     "output_type": "stream",
     "text": [
      " 25%|██▍       | 250/1001 [11:40<39:13,  3.13s/it]"
     ]
    },
    {
     "name": "stdout",
     "output_type": "stream",
     "text": [
      " Ray: render time: 2.87 sec. = 1256.5 frames/hour (1875.51 sec. accum.).\n"
     ]
    },
    {
     "name": "stderr",
     "output_type": "stream",
     "text": [
      " 25%|██▌       | 251/1001 [11:43<36:53,  2.95s/it]"
     ]
    },
    {
     "name": "stdout",
     "output_type": "stream",
     "text": [
      " Ray: render time: 2.44 sec. = 1476.0 frames/hour (1877.95 sec. accum.).\n"
     ]
    },
    {
     "name": "stderr",
     "output_type": "stream",
     "text": [
      " 25%|██▌       | 252/1001 [11:46<38:08,  3.06s/it]"
     ]
    },
    {
     "name": "stdout",
     "output_type": "stream",
     "text": [
      " Ray: render time: 3.21 sec. = 1123.1 frames/hour (1881.16 sec. accum.).\n"
     ]
    },
    {
     "name": "stderr",
     "output_type": "stream",
     "text": [
      " 25%|██▌       | 253/1001 [11:48<33:13,  2.67s/it]"
     ]
    },
    {
     "name": "stdout",
     "output_type": "stream",
     "text": [
      " Ray: render time: 1.67 sec. = 2154.8 frames/hour (1882.83 sec. accum.).\n"
     ]
    },
    {
     "name": "stderr",
     "output_type": "stream",
     "text": [
      " 25%|██▌       | 254/1001 [11:50<30:42,  2.47s/it]"
     ]
    },
    {
     "name": "stdout",
     "output_type": "stream",
     "text": [
      " Ray: render time: 1.90 sec. = 1895.8 frames/hour (1884.73 sec. accum.).\n"
     ]
    },
    {
     "name": "stderr",
     "output_type": "stream",
     "text": [
      " 25%|██▌       | 255/1001 [11:51<26:15,  2.11s/it]"
     ]
    },
    {
     "name": "stdout",
     "output_type": "stream",
     "text": [
      " Ray: render time: 1.19 sec. = 3030.8 frames/hour (1885.92 sec. accum.).\n"
     ]
    },
    {
     "name": "stderr",
     "output_type": "stream",
     "text": [
      " 26%|██▌       | 256/1001 [11:54<28:14,  2.27s/it]"
     ]
    },
    {
     "name": "stdout",
     "output_type": "stream",
     "text": [
      " Ray: render time: 2.53 sec. = 1422.2 frames/hour (1888.45 sec. accum.).\n"
     ]
    },
    {
     "name": "stderr",
     "output_type": "stream",
     "text": [
      " 26%|██▌       | 257/1001 [11:55<25:26,  2.05s/it]"
     ]
    },
    {
     "name": "stdout",
     "output_type": "stream",
     "text": [
      " Ray: render time: 1.46 sec. = 2460.0 frames/hour (1889.91 sec. accum.).\n"
     ]
    },
    {
     "name": "stderr",
     "output_type": "stream",
     "text": [
      " 26%|██▌       | 258/1001 [11:57<24:18,  1.96s/it]"
     ]
    },
    {
     "name": "stdout",
     "output_type": "stream",
     "text": [
      " Ray: render time: 1.66 sec. = 2171.7 frames/hour (1891.57 sec. accum.).\n"
     ]
    },
    {
     "name": "stderr",
     "output_type": "stream",
     "text": [
      " 26%|██▌       | 259/1001 [12:00<29:43,  2.40s/it]"
     ]
    },
    {
     "name": "stdout",
     "output_type": "stream",
     "text": [
      " Ray: render time: 3.29 sec. = 1095.1 frames/hour (1894.86 sec. accum.).\n"
     ]
    },
    {
     "name": "stderr",
     "output_type": "stream",
     "text": [
      " 26%|██▌       | 260/1001 [12:02<25:54,  2.10s/it]"
     ]
    },
    {
     "name": "stdout",
     "output_type": "stream",
     "text": [
      " Ray: render time: 1.32 sec. = 2723.1 frames/hour (1896.18 sec. accum.).\n"
     ]
    },
    {
     "name": "stderr",
     "output_type": "stream",
     "text": [
      " 26%|██▌       | 261/1001 [12:03<23:30,  1.91s/it]"
     ]
    },
    {
     "name": "stdout",
     "output_type": "stream",
     "text": [
      " Ray: render time: 1.39 sec. = 2586.6 frames/hour (1897.57 sec. accum.).\n"
     ]
    },
    {
     "name": "stderr",
     "output_type": "stream",
     "text": [
      " 26%|██▌       | 262/1001 [12:06<26:22,  2.14s/it]"
     ]
    },
    {
     "name": "stdout",
     "output_type": "stream",
     "text": [
      " Ray: render time: 2.61 sec. = 1376.9 frames/hour (1900.19 sec. accum.).\n"
     ]
    },
    {
     "name": "stderr",
     "output_type": "stream",
     "text": [
      " 26%|██▋       | 263/1001 [12:08<25:51,  2.10s/it]"
     ]
    },
    {
     "name": "stdout",
     "output_type": "stream",
     "text": [
      " Ray: render time: 1.93 sec. = 1861.8 frames/hour (1902.12 sec. accum.).\n"
     ]
    },
    {
     "name": "stderr",
     "output_type": "stream",
     "text": [
      " 26%|██▋       | 264/1001 [12:10<25:13,  2.05s/it]"
     ]
    },
    {
     "name": "stdout",
     "output_type": "stream",
     "text": [
      " Ray: render time: 1.86 sec. = 1930.5 frames/hour (1903.98 sec. accum.).\n"
     ]
    },
    {
     "name": "stderr",
     "output_type": "stream",
     "text": [
      " 26%|██▋       | 265/1001 [12:13<29:57,  2.44s/it]"
     ]
    },
    {
     "name": "stdout",
     "output_type": "stream",
     "text": [
      " Ray: render time: 3.25 sec. = 1106.5 frames/hour (1907.24 sec. accum.).\n"
     ]
    },
    {
     "name": "stderr",
     "output_type": "stream",
     "text": [
      " 27%|██▋       | 266/1001 [12:15<28:32,  2.33s/it]"
     ]
    },
    {
     "name": "stdout",
     "output_type": "stream",
     "text": [
      " Ray: render time: 1.98 sec. = 1821.2 frames/hour (1909.21 sec. accum.).\n"
     ]
    },
    {
     "name": "stderr",
     "output_type": "stream",
     "text": [
      " 27%|██▋       | 267/1001 [12:18<30:33,  2.50s/it]"
     ]
    },
    {
     "name": "stdout",
     "output_type": "stream",
     "text": [
      " Ray: render time: 2.78 sec. = 1293.6 frames/hour (1912.00 sec. accum.).\n"
     ]
    },
    {
     "name": "stderr",
     "output_type": "stream",
     "text": [
      " 27%|██▋       | 268/1001 [12:21<33:53,  2.77s/it]"
     ]
    },
    {
     "name": "stdout",
     "output_type": "stream",
     "text": [
      " Ray: render time: 3.33 sec. = 1079.9 frames/hour (1915.33 sec. accum.).\n"
     ]
    },
    {
     "name": "stderr",
     "output_type": "stream",
     "text": [
      " 27%|██▋       | 269/1001 [12:26<40:06,  3.29s/it]"
     ]
    },
    {
     "name": "stdout",
     "output_type": "stream",
     "text": [
      " Ray: render time: 4.38 sec. = 822.7 frames/hour (1919.71 sec. accum.).\n"
     ]
    },
    {
     "name": "stderr",
     "output_type": "stream",
     "text": [
      " 27%|██▋       | 270/1001 [12:30<43:40,  3.58s/it]"
     ]
    },
    {
     "name": "stdout",
     "output_type": "stream",
     "text": [
      " Ray: render time: 4.18 sec. = 861.9 frames/hour (1923.88 sec. accum.).\n"
     ]
    },
    {
     "name": "stderr",
     "output_type": "stream",
     "text": [
      " 27%|██▋       | 271/1001 [12:32<37:03,  3.05s/it]"
     ]
    },
    {
     "name": "stdout",
     "output_type": "stream",
     "text": [
      " Ray: render time: 1.71 sec. = 2108.6 frames/hour (1925.59 sec. accum.).\n"
     ]
    },
    {
     "name": "stderr",
     "output_type": "stream",
     "text": [
      " 27%|██▋       | 272/1001 [12:34<31:20,  2.58s/it]"
     ]
    },
    {
     "name": "stdout",
     "output_type": "stream",
     "text": [
      " Ray: render time: 1.41 sec. = 2557.0 frames/hour (1927.00 sec. accum.).\n"
     ]
    },
    {
     "name": "stderr",
     "output_type": "stream",
     "text": [
      " 27%|██▋       | 273/1001 [12:35<27:35,  2.27s/it]"
     ]
    },
    {
     "name": "stdout",
     "output_type": "stream",
     "text": [
      " Ray: render time: 1.47 sec. = 2455.2 frames/hour (1928.46 sec. accum.).\n"
     ]
    },
    {
     "name": "stderr",
     "output_type": "stream",
     "text": [
      " 27%|██▋       | 274/1001 [12:38<30:28,  2.51s/it]"
     ]
    },
    {
     "name": "stdout",
     "output_type": "stream",
     "text": [
      " Ray: render time: 2.99 sec. = 1203.1 frames/hour (1931.46 sec. accum.).\n"
     ]
    },
    {
     "name": "stderr",
     "output_type": "stream",
     "text": [
      " 27%|██▋       | 275/1001 [12:40<27:47,  2.30s/it]"
     ]
    },
    {
     "name": "stdout",
     "output_type": "stream",
     "text": [
      " Ray: render time: 1.70 sec. = 2122.7 frames/hour (1933.15 sec. accum.).\n"
     ]
    },
    {
     "name": "stderr",
     "output_type": "stream",
     "text": [
      " 28%|██▊       | 276/1001 [12:42<26:14,  2.17s/it]"
     ]
    },
    {
     "name": "stdout",
     "output_type": "stream",
     "text": [
      " Ray: render time: 1.77 sec. = 2032.9 frames/hour (1934.92 sec. accum.).\n"
     ]
    },
    {
     "name": "stderr",
     "output_type": "stream",
     "text": [
      " 28%|██▊       | 277/1001 [12:44<25:01,  2.07s/it]"
     ]
    },
    {
     "name": "stdout",
     "output_type": "stream",
     "text": [
      " Ray: render time: 1.78 sec. = 2023.4 frames/hour (1936.70 sec. accum.).\n"
     ]
    },
    {
     "name": "stderr",
     "output_type": "stream",
     "text": [
      " 28%|██▊       | 278/1001 [12:45<22:37,  1.88s/it]"
     ]
    },
    {
     "name": "stdout",
     "output_type": "stream",
     "text": [
      " Ray: render time: 1.36 sec. = 2643.9 frames/hour (1938.06 sec. accum.).\n"
     ]
    },
    {
     "name": "stderr",
     "output_type": "stream",
     "text": [
      " 28%|██▊       | 279/1001 [12:47<21:44,  1.81s/it]"
     ]
    },
    {
     "name": "stdout",
     "output_type": "stream",
     "text": [
      " Ray: render time: 1.57 sec. = 2289.0 frames/hour (1939.64 sec. accum.).\n"
     ]
    },
    {
     "name": "stderr",
     "output_type": "stream",
     "text": [
      " 28%|██▊       | 280/1001 [12:48<19:52,  1.65s/it]"
     ]
    },
    {
     "name": "stdout",
     "output_type": "stream",
     "text": [
      " Ray: render time: 1.21 sec. = 2969.6 frames/hour (1940.85 sec. accum.).\n"
     ]
    },
    {
     "name": "stderr",
     "output_type": "stream",
     "text": [
      " 28%|██▊       | 281/1001 [12:51<23:36,  1.97s/it]"
     ]
    },
    {
     "name": "stdout",
     "output_type": "stream",
     "text": [
      " Ray: render time: 2.61 sec. = 1379.5 frames/hour (1943.46 sec. accum.).\n"
     ]
    },
    {
     "name": "stderr",
     "output_type": "stream",
     "text": [
      " 28%|██▊       | 282/1001 [12:53<23:01,  1.92s/it]"
     ]
    },
    {
     "name": "stdout",
     "output_type": "stream",
     "text": [
      " Ray: render time: 1.73 sec. = 2077.8 frames/hour (1945.19 sec. accum.).\n"
     ]
    },
    {
     "name": "stderr",
     "output_type": "stream",
     "text": [
      " 28%|██▊       | 283/1001 [12:55<24:50,  2.08s/it]"
     ]
    },
    {
     "name": "stdout",
     "output_type": "stream",
     "text": [
      " Ray: render time: 2.38 sec. = 1514.6 frames/hour (1947.57 sec. accum.).\n"
     ]
    },
    {
     "name": "stderr",
     "output_type": "stream",
     "text": [
      " 28%|██▊       | 284/1001 [12:57<23:02,  1.93s/it]"
     ]
    },
    {
     "name": "stdout",
     "output_type": "stream",
     "text": [
      " Ray: render time: 1.50 sec. = 2392.7 frames/hour (1949.07 sec. accum.).\n"
     ]
    },
    {
     "name": "stderr",
     "output_type": "stream",
     "text": [
      " 28%|██▊       | 285/1001 [12:58<21:59,  1.84s/it]"
     ]
    },
    {
     "name": "stdout",
     "output_type": "stream",
     "text": [
      " Ray: render time: 1.54 sec. = 2344.3 frames/hour (1950.61 sec. accum.).\n"
     ]
    },
    {
     "name": "stderr",
     "output_type": "stream",
     "text": [
      " 29%|██▊       | 286/1001 [13:00<21:50,  1.83s/it]"
     ]
    },
    {
     "name": "stdout",
     "output_type": "stream",
     "text": [
      " Ray: render time: 1.74 sec. = 2066.4 frames/hour (1952.35 sec. accum.).\n"
     ]
    },
    {
     "name": "stderr",
     "output_type": "stream",
     "text": [
      " 29%|██▊       | 287/1001 [13:02<21:23,  1.80s/it]"
     ]
    },
    {
     "name": "stdout",
     "output_type": "stream",
     "text": [
      " Ray: render time: 1.65 sec. = 2179.5 frames/hour (1954.00 sec. accum.).\n"
     ]
    },
    {
     "name": "stderr",
     "output_type": "stream",
     "text": [
      " 29%|██▉       | 288/1001 [13:03<21:17,  1.79s/it]"
     ]
    },
    {
     "name": "stdout",
     "output_type": "stream",
     "text": [
      " Ray: render time: 1.69 sec. = 2125.0 frames/hour (1955.70 sec. accum.).\n"
     ]
    },
    {
     "name": "stderr",
     "output_type": "stream",
     "text": [
      " 29%|██▉       | 289/1001 [13:06<22:16,  1.88s/it]"
     ]
    },
    {
     "name": "stdout",
     "output_type": "stream",
     "text": [
      " Ray: render time: 1.97 sec. = 1823.9 frames/hour (1957.67 sec. accum.).\n"
     ]
    },
    {
     "name": "stderr",
     "output_type": "stream",
     "text": [
      " 29%|██▉       | 290/1001 [13:09<27:02,  2.28s/it]"
     ]
    },
    {
     "name": "stdout",
     "output_type": "stream",
     "text": [
      " Ray: render time: 3.08 sec. = 1169.9 frames/hour (1960.75 sec. accum.).\n"
     ]
    },
    {
     "name": "stderr",
     "output_type": "stream",
     "text": [
      " 29%|██▉       | 291/1001 [13:11<26:59,  2.28s/it]"
     ]
    },
    {
     "name": "stdout",
     "output_type": "stream",
     "text": [
      " Ray: render time: 2.18 sec. = 1649.7 frames/hour (1962.93 sec. accum.).\n"
     ]
    },
    {
     "name": "stderr",
     "output_type": "stream",
     "text": [
      " 29%|██▉       | 292/1001 [13:13<24:30,  2.07s/it]"
     ]
    },
    {
     "name": "stdout",
     "output_type": "stream",
     "text": [
      " Ray: render time: 1.51 sec. = 2390.5 frames/hour (1964.44 sec. accum.).\n"
     ]
    },
    {
     "name": "stderr",
     "output_type": "stream",
     "text": [
      " 29%|██▉       | 293/1001 [13:15<25:55,  2.20s/it]"
     ]
    },
    {
     "name": "stdout",
     "output_type": "stream",
     "text": [
      " Ray: render time: 2.39 sec. = 1508.2 frames/hour (1966.82 sec. accum.).\n"
     ]
    },
    {
     "name": "stderr",
     "output_type": "stream",
     "text": [
      " 29%|██▉       | 294/1001 [13:18<27:09,  2.31s/it]"
     ]
    },
    {
     "name": "stdout",
     "output_type": "stream",
     "text": [
      " Ray: render time: 2.48 sec. = 1453.9 frames/hour (1969.30 sec. accum.).\n"
     ]
    },
    {
     "name": "stderr",
     "output_type": "stream",
     "text": [
      " 29%|██▉       | 295/1001 [13:21<29:39,  2.52s/it]"
     ]
    },
    {
     "name": "stdout",
     "output_type": "stream",
     "text": [
      " Ray: render time: 2.93 sec. = 1226.9 frames/hour (1972.23 sec. accum.).\n"
     ]
    },
    {
     "name": "stderr",
     "output_type": "stream",
     "text": [
      " 30%|██▉       | 296/1001 [13:23<28:24,  2.42s/it]"
     ]
    },
    {
     "name": "stdout",
     "output_type": "stream",
     "text": [
      " Ray: render time: 2.06 sec. = 1745.6 frames/hour (1974.29 sec. accum.).\n"
     ]
    },
    {
     "name": "stderr",
     "output_type": "stream",
     "text": [
      " 30%|██▉       | 297/1001 [13:25<28:26,  2.42s/it]"
     ]
    },
    {
     "name": "stdout",
     "output_type": "stream",
     "text": [
      " Ray: render time: 2.37 sec. = 1519.2 frames/hour (1976.66 sec. accum.).\n"
     ]
    },
    {
     "name": "stderr",
     "output_type": "stream",
     "text": [
      " 30%|██▉       | 298/1001 [13:29<33:54,  2.89s/it]"
     ]
    },
    {
     "name": "stdout",
     "output_type": "stream",
     "text": [
      " Ray: render time: 3.80 sec. = 947.3 frames/hour (1980.46 sec. accum.).\n"
     ]
    },
    {
     "name": "stderr",
     "output_type": "stream",
     "text": [
      " 30%|██▉       | 299/1001 [13:32<33:08,  2.83s/it]"
     ]
    },
    {
     "name": "stdout",
     "output_type": "stream",
     "text": [
      " Ray: render time: 2.59 sec. = 1389.0 frames/hour (1983.06 sec. accum.).\n"
     ]
    },
    {
     "name": "stderr",
     "output_type": "stream",
     "text": [
      " 30%|██▉       | 300/1001 [13:35<31:58,  2.74s/it]"
     ]
    },
    {
     "name": "stdout",
     "output_type": "stream",
     "text": [
      " Ray: render time: 2.40 sec. = 1500.8 frames/hour (1985.46 sec. accum.).\n"
     ]
    },
    {
     "name": "stderr",
     "output_type": "stream",
     "text": [
      " 30%|███       | 301/1001 [13:37<29:35,  2.54s/it]"
     ]
    },
    {
     "name": "stdout",
     "output_type": "stream",
     "text": [
      " Ray: render time: 1.97 sec. = 1829.6 frames/hour (1987.42 sec. accum.).\n"
     ]
    },
    {
     "name": "stderr",
     "output_type": "stream",
     "text": [
      " 30%|███       | 302/1001 [13:39<29:30,  2.53s/it]"
     ]
    },
    {
     "name": "stdout",
     "output_type": "stream",
     "text": [
      " Ray: render time: 2.42 sec. = 1486.4 frames/hour (1989.84 sec. accum.).\n"
     ]
    },
    {
     "name": "stderr",
     "output_type": "stream",
     "text": [
      " 30%|███       | 303/1001 [13:43<33:38,  2.89s/it]"
     ]
    },
    {
     "name": "stdout",
     "output_type": "stream",
     "text": [
      " Ray: render time: 3.63 sec. = 991.5 frames/hour (1993.48 sec. accum.).\n"
     ]
    },
    {
     "name": "stderr",
     "output_type": "stream",
     "text": [
      " 30%|███       | 304/1001 [13:45<31:34,  2.72s/it]"
     ]
    },
    {
     "name": "stdout",
     "output_type": "stream",
     "text": [
      " Ray: render time: 2.24 sec. = 1609.5 frames/hour (1995.71 sec. accum.).\n"
     ]
    },
    {
     "name": "stderr",
     "output_type": "stream",
     "text": [
      " 30%|███       | 305/1001 [13:48<30:43,  2.65s/it]"
     ]
    },
    {
     "name": "stdout",
     "output_type": "stream",
     "text": [
      " Ray: render time: 2.38 sec. = 1512.6 frames/hour (1998.09 sec. accum.).\n"
     ]
    },
    {
     "name": "stderr",
     "output_type": "stream",
     "text": [
      " 31%|███       | 306/1001 [13:50<30:59,  2.68s/it]"
     ]
    },
    {
     "name": "stdout",
     "output_type": "stream",
     "text": [
      " Ray: render time: 2.66 sec. = 1351.1 frames/hour (2000.76 sec. accum.).\n"
     ]
    },
    {
     "name": "stderr",
     "output_type": "stream",
     "text": [
      " 31%|███       | 307/1001 [13:53<30:26,  2.63s/it]"
     ]
    },
    {
     "name": "stdout",
     "output_type": "stream",
     "text": [
      " Ray: render time: 2.44 sec. = 1474.1 frames/hour (2003.20 sec. accum.).\n"
     ]
    },
    {
     "name": "stderr",
     "output_type": "stream",
     "text": [
      " 31%|███       | 308/1001 [13:55<28:16,  2.45s/it]"
     ]
    },
    {
     "name": "stdout",
     "output_type": "stream",
     "text": [
      " Ray: render time: 1.95 sec. = 1848.8 frames/hour (2005.15 sec. accum.).\n"
     ]
    },
    {
     "name": "stderr",
     "output_type": "stream",
     "text": [
      " 31%|███       | 309/1001 [13:57<26:37,  2.31s/it]"
     ]
    },
    {
     "name": "stdout",
     "output_type": "stream",
     "text": [
      " Ray: render time: 1.90 sec. = 1889.9 frames/hour (2007.05 sec. accum.).\n"
     ]
    },
    {
     "name": "stderr",
     "output_type": "stream",
     "text": [
      " 31%|███       | 310/1001 [14:00<28:48,  2.50s/it]"
     ]
    },
    {
     "name": "stdout",
     "output_type": "stream",
     "text": [
      " Ray: render time: 2.82 sec. = 1275.2 frames/hour (2009.87 sec. accum.).\n"
     ]
    },
    {
     "name": "stderr",
     "output_type": "stream",
     "text": [
      " 31%|███       | 311/1001 [14:02<27:20,  2.38s/it]"
     ]
    },
    {
     "name": "stdout",
     "output_type": "stream",
     "text": [
      " Ray: render time: 2.00 sec. = 1796.4 frames/hour (2011.88 sec. accum.).\n"
     ]
    },
    {
     "name": "stderr",
     "output_type": "stream",
     "text": [
      " 31%|███       | 312/1001 [14:04<25:57,  2.26s/it]"
     ]
    },
    {
     "name": "stdout",
     "output_type": "stream",
     "text": [
      " Ray: render time: 1.88 sec. = 1912.1 frames/hour (2013.76 sec. accum.).\n"
     ]
    },
    {
     "name": "stderr",
     "output_type": "stream",
     "text": [
      " 31%|███▏      | 313/1001 [14:07<26:53,  2.35s/it]"
     ]
    },
    {
     "name": "stdout",
     "output_type": "stream",
     "text": [
      " Ray: render time: 2.46 sec. = 1463.7 frames/hour (2016.22 sec. accum.).\n"
     ]
    },
    {
     "name": "stderr",
     "output_type": "stream",
     "text": [
      " 31%|███▏      | 314/1001 [14:09<27:27,  2.40s/it]"
     ]
    },
    {
     "name": "stdout",
     "output_type": "stream",
     "text": [
      " Ray: render time: 2.45 sec. = 1467.6 frames/hour (2018.67 sec. accum.).\n"
     ]
    },
    {
     "name": "stderr",
     "output_type": "stream",
     "text": [
      " 31%|███▏      | 315/1001 [14:11<27:36,  2.41s/it]"
     ]
    },
    {
     "name": "stdout",
     "output_type": "stream",
     "text": [
      " Ray: render time: 2.36 sec. = 1525.9 frames/hour (2021.03 sec. accum.).\n"
     ]
    },
    {
     "name": "stderr",
     "output_type": "stream",
     "text": [
      " 32%|███▏      | 316/1001 [14:14<26:41,  2.34s/it]"
     ]
    },
    {
     "name": "stdout",
     "output_type": "stream",
     "text": [
      " Ray: render time: 2.06 sec. = 1745.6 frames/hour (2023.10 sec. accum.).\n"
     ]
    },
    {
     "name": "stderr",
     "output_type": "stream",
     "text": [
      " 32%|███▏      | 317/1001 [14:15<24:12,  2.12s/it]"
     ]
    },
    {
     "name": "stdout",
     "output_type": "stream",
     "text": [
      " Ray: render time: 1.55 sec. = 2323.1 frames/hour (2024.64 sec. accum.).\n"
     ]
    },
    {
     "name": "stderr",
     "output_type": "stream",
     "text": [
      " 32%|███▏      | 318/1001 [14:17<23:52,  2.10s/it]"
     ]
    },
    {
     "name": "stdout",
     "output_type": "stream",
     "text": [
      " Ray: render time: 1.93 sec. = 1868.1 frames/hour (2026.57 sec. accum.).\n"
     ]
    },
    {
     "name": "stderr",
     "output_type": "stream",
     "text": [
      " 32%|███▏      | 319/1001 [14:19<22:10,  1.95s/it]"
     ]
    },
    {
     "name": "stdout",
     "output_type": "stream",
     "text": [
      " Ray: render time: 1.54 sec. = 2338.9 frames/hour (2028.11 sec. accum.).\n"
     ]
    },
    {
     "name": "stderr",
     "output_type": "stream",
     "text": [
      " 32%|███▏      | 320/1001 [14:21<22:26,  1.98s/it]"
     ]
    },
    {
     "name": "stdout",
     "output_type": "stream",
     "text": [
      " Ray: render time: 1.95 sec. = 1842.2 frames/hour (2030.07 sec. accum.).\n"
     ]
    },
    {
     "name": "stderr",
     "output_type": "stream",
     "text": [
      " 32%|███▏      | 321/1001 [14:23<21:11,  1.87s/it]"
     ]
    },
    {
     "name": "stdout",
     "output_type": "stream",
     "text": [
      " Ray: render time: 1.54 sec. = 2342.0 frames/hour (2031.60 sec. accum.).\n"
     ]
    },
    {
     "name": "stderr",
     "output_type": "stream",
     "text": [
      " 32%|███▏      | 322/1001 [14:24<19:14,  1.70s/it]"
     ]
    },
    {
     "name": "stdout",
     "output_type": "stream",
     "text": [
      " Ray: render time: 1.24 sec. = 2896.8 frames/hour (2032.85 sec. accum.).\n"
     ]
    },
    {
     "name": "stderr",
     "output_type": "stream",
     "text": [
      " 32%|███▏      | 323/1001 [14:25<18:33,  1.64s/it]"
     ]
    },
    {
     "name": "stdout",
     "output_type": "stream",
     "text": [
      " Ray: render time: 1.43 sec. = 2515.2 frames/hour (2034.28 sec. accum.).\n"
     ]
    },
    {
     "name": "stderr",
     "output_type": "stream",
     "text": [
      " 32%|███▏      | 324/1001 [14:28<20:19,  1.80s/it]"
     ]
    },
    {
     "name": "stdout",
     "output_type": "stream",
     "text": [
      " Ray: render time: 1.96 sec. = 1834.4 frames/hour (2036.24 sec. accum.).\n"
     ]
    },
    {
     "name": "stderr",
     "output_type": "stream",
     "text": [
      " 32%|███▏      | 325/1001 [14:30<21:50,  1.94s/it]"
     ]
    },
    {
     "name": "stdout",
     "output_type": "stream",
     "text": [
      " Ray: render time: 2.14 sec. = 1685.4 frames/hour (2038.37 sec. accum.).\n"
     ]
    },
    {
     "name": "stderr",
     "output_type": "stream",
     "text": [
      " 33%|███▎      | 326/1001 [14:32<21:36,  1.92s/it]"
     ]
    },
    {
     "name": "stdout",
     "output_type": "stream",
     "text": [
      " Ray: render time: 1.80 sec. = 2001.3 frames/hour (2040.17 sec. accum.).\n"
     ]
    },
    {
     "name": "stderr",
     "output_type": "stream",
     "text": [
      " 33%|███▎      | 327/1001 [14:35<25:30,  2.27s/it]"
     ]
    },
    {
     "name": "stdout",
     "output_type": "stream",
     "text": [
      " Ray: render time: 2.98 sec. = 1208.3 frames/hour (2043.15 sec. accum.).\n"
     ]
    },
    {
     "name": "stderr",
     "output_type": "stream",
     "text": [
      " 33%|███▎      | 328/1001 [14:36<23:30,  2.10s/it]"
     ]
    },
    {
     "name": "stdout",
     "output_type": "stream",
     "text": [
      " Ray: render time: 1.57 sec. = 2290.2 frames/hour (2044.72 sec. accum.).\n"
     ]
    },
    {
     "name": "stderr",
     "output_type": "stream",
     "text": [
      " 33%|███▎      | 329/1001 [14:38<22:52,  2.04s/it]"
     ]
    },
    {
     "name": "stdout",
     "output_type": "stream",
     "text": [
      " Ray: render time: 1.83 sec. = 1968.2 frames/hour (2046.55 sec. accum.).\n"
     ]
    },
    {
     "name": "stderr",
     "output_type": "stream",
     "text": [
      " 33%|███▎      | 330/1001 [14:40<22:50,  2.04s/it]"
     ]
    },
    {
     "name": "stdout",
     "output_type": "stream",
     "text": [
      " Ray: render time: 1.96 sec. = 1833.6 frames/hour (2048.52 sec. accum.).\n"
     ]
    },
    {
     "name": "stderr",
     "output_type": "stream",
     "text": [
      " 33%|███▎      | 331/1001 [14:43<25:56,  2.32s/it]"
     ]
    },
    {
     "name": "stdout",
     "output_type": "stream",
     "text": [
      " Ray: render time: 2.86 sec. = 1258.0 frames/hour (2051.38 sec. accum.).\n"
     ]
    },
    {
     "name": "stderr",
     "output_type": "stream",
     "text": [
      " 33%|███▎      | 332/1001 [14:46<26:30,  2.38s/it]"
     ]
    },
    {
     "name": "stdout",
     "output_type": "stream",
     "text": [
      " Ray: render time: 2.40 sec. = 1502.3 frames/hour (2053.78 sec. accum.).\n"
     ]
    },
    {
     "name": "stderr",
     "output_type": "stream",
     "text": [
      " 33%|███▎      | 333/1001 [14:48<27:08,  2.44s/it]"
     ]
    },
    {
     "name": "stdout",
     "output_type": "stream",
     "text": [
      " Ray: render time: 2.46 sec. = 1463.4 frames/hour (2056.24 sec. accum.).\n"
     ]
    },
    {
     "name": "stderr",
     "output_type": "stream",
     "text": [
      " 33%|███▎      | 334/1001 [14:51<26:25,  2.38s/it]"
     ]
    },
    {
     "name": "stdout",
     "output_type": "stream",
     "text": [
      " Ray: render time: 2.14 sec. = 1683.0 frames/hour (2058.37 sec. accum.).\n"
     ]
    },
    {
     "name": "stderr",
     "output_type": "stream",
     "text": [
      " 33%|███▎      | 335/1001 [14:54<27:57,  2.52s/it]"
     ]
    },
    {
     "name": "stdout",
     "output_type": "stream",
     "text": [
      " Ray: render time: 2.76 sec. = 1305.6 frames/hour (2061.13 sec. accum.).\n"
     ]
    },
    {
     "name": "stderr",
     "output_type": "stream",
     "text": [
      " 34%|███▎      | 336/1001 [14:57<29:40,  2.68s/it]"
     ]
    },
    {
     "name": "stdout",
     "output_type": "stream",
     "text": [
      " Ray: render time: 2.97 sec. = 1212.4 frames/hour (2064.10 sec. accum.).\n"
     ]
    },
    {
     "name": "stderr",
     "output_type": "stream",
     "text": [
      " 34%|███▎      | 337/1001 [15:00<30:55,  2.79s/it]"
     ]
    },
    {
     "name": "stdout",
     "output_type": "stream",
     "text": [
      " Ray: render time: 2.96 sec. = 1215.7 frames/hour (2067.06 sec. accum.).\n"
     ]
    },
    {
     "name": "stderr",
     "output_type": "stream",
     "text": [
      " 34%|███▍      | 338/1001 [15:02<27:52,  2.52s/it]"
     ]
    },
    {
     "name": "stdout",
     "output_type": "stream",
     "text": [
      " Ray: render time: 1.81 sec. = 1987.9 frames/hour (2068.87 sec. accum.).\n"
     ]
    },
    {
     "name": "stderr",
     "output_type": "stream",
     "text": [
      " 34%|███▍      | 339/1001 [15:04<26:19,  2.39s/it]"
     ]
    },
    {
     "name": "stdout",
     "output_type": "stream",
     "text": [
      " Ray: render time: 1.99 sec. = 1808.2 frames/hour (2070.86 sec. accum.).\n"
     ]
    },
    {
     "name": "stderr",
     "output_type": "stream",
     "text": [
      " 34%|███▍      | 340/1001 [15:06<27:04,  2.46s/it]"
     ]
    },
    {
     "name": "stdout",
     "output_type": "stream",
     "text": [
      " Ray: render time: 2.51 sec. = 1433.8 frames/hour (2073.37 sec. accum.).\n"
     ]
    },
    {
     "name": "stderr",
     "output_type": "stream",
     "text": [
      " 34%|███▍      | 341/1001 [15:08<26:12,  2.38s/it]"
     ]
    },
    {
     "name": "stdout",
     "output_type": "stream",
     "text": [
      " Ray: render time: 2.11 sec. = 1705.4 frames/hour (2075.49 sec. accum.).\n"
     ]
    },
    {
     "name": "stderr",
     "output_type": "stream",
     "text": [
      " 34%|███▍      | 342/1001 [15:10<24:42,  2.25s/it]"
     ]
    },
    {
     "name": "stdout",
     "output_type": "stream",
     "text": [
      " Ray: render time: 1.84 sec. = 1959.1 frames/hour (2077.32 sec. accum.).\n"
     ]
    },
    {
     "name": "stderr",
     "output_type": "stream",
     "text": [
      " 34%|███▍      | 343/1001 [15:13<24:51,  2.27s/it]"
     ]
    },
    {
     "name": "stdout",
     "output_type": "stream",
     "text": [
      " Ray: render time: 2.21 sec. = 1629.7 frames/hour (2079.53 sec. accum.).\n"
     ]
    }
   ],
   "source": [
    "from tqdm import tqdm\n",
    "\n",
    "for i in tqdm(range(0, 1001)):\n",
    "    pdb2png(f'denoising_demo/model_{i}.pdb', f'denoising_demo/model_{i:04}.png')"
   ]
  },
  {
   "cell_type": "code",
   "execution_count": null,
   "metadata": {},
   "outputs": [],
   "source": [
    "!convert -loop 0 -alpha deactivate -background white \\\n",
    "    -delay 10 denoising_demo/*.png \\\n",
    "    -delay 2000 denoising_demo/model_1000.png \\\n",
    "    denoising_64res.gif"
   ]
  }
 ],
 "metadata": {
  "kernelspec": {
   "display_name": "pymol",
   "language": "python",
   "name": "pymol"
  },
  "language_info": {
   "codemirror_mode": {
    "name": "ipython",
    "version": 3
   },
   "file_extension": ".py",
   "mimetype": "text/x-python",
   "name": "python",
   "nbconvert_exporter": "python",
   "pygments_lexer": "ipython3",
   "version": "3.7.12"
  }
 },
 "nbformat": 4,
 "nbformat_minor": 4
}
