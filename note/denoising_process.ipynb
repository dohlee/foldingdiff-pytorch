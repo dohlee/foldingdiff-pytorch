{
 "cells": [
  {
   "cell_type": "code",
   "execution_count": 29,
   "metadata": {},
   "outputs": [],
   "source": [
    "import torch\n",
    "import numpy as np\n",
    "import pandas as pd\n",
    "import biotite.structure as struc\n",
    "\n",
    "from tqdm import tqdm\n",
    "from biotite.structure.io.pdb import PDBFile"
   ]
  },
  {
   "cell_type": "code",
   "execution_count": 14,
   "metadata": {
    "jupyter": {
     "source_hidden": true
    }
   },
   "outputs": [],
   "source": [
    "def wrap(x):\n",
    "    return np.remainder(x + np.pi, np.pi * 2) - np.pi\n",
    "\n",
    "def place_fourth_atom(a, b, c, bond_angle, torsion, bond_length):\n",
    "    # Place atom D with respect to atom C at origin.\n",
    "    d = np.array([\n",
    "        bond_length * np.cos(np.pi - bond_angle),\n",
    "        bond_length * np.cos(torsion) * np.sin(bond_angle),\n",
    "        bond_length * np.sin(torsion) * np.sin(bond_angle)\n",
    "    ]).T\n",
    "\n",
    "    # Transform atom D to the correct frame.\n",
    "    bc = c - b\n",
    "    bc /= np.linalg.norm(bc) # Unit vector from B to C.\n",
    "\n",
    "    n = np.cross(b - a, bc)\n",
    "    n /= np.linalg.norm(n) # Normal vector of the plane defined by a, b, c.\n",
    "\n",
    "    M = np.array([bc, np.cross(n, bc), n]).T\n",
    "    return M @ d + c\n",
    "\n",
    "def angles2coord(angles, n_ca=1.46, ca_c=1.54, c_n=1.33):\n",
    "    \"\"\"Given L x 6 angle matrix,\n",
    "    reconstruct the Cartesian coordinates of atoms.\n",
    "    Returns L x 3 coordinate matrix.\n",
    "\n",
    "    Implements NeRF (Natural Extension Reference Frame) algorithm.\n",
    "    \"\"\"\n",
    "    if isinstance(angles, torch.Tensor):\n",
    "        phi, psi, omega, theta1, theta2, theta3 = angles.T.numpy()\n",
    "    else:\n",
    "        phi, psi, omega, theta1, theta2, theta3 = angles.T\n",
    "    \n",
    "    torsions = np.stack([psi[:-1], omega[:-1], phi[1:]], axis=-1).flatten()\n",
    "    bond_angles = np.stack([theta2[:-1], theta3[:-1], theta1[1:]], axis=-1).flatten()\n",
    "    \n",
    "    #\n",
    "    # Place the first three atoms.\n",
    "    #\n",
    "    # The first atom (N) is placed at origin.\n",
    "    a = np.zeros(3)\n",
    "    # The second atom (Ca) is placed on the x-axis.\n",
    "    b = np.array([1, 0, 0]) * n_ca\n",
    "    # The third atom (C) is placed on the xy-plane with bond angle theta1[0]\n",
    "    c = np.array([ np.cos(np.pi - theta1[0]), np.sin(np.pi - theta1[0]), 0 ]) * ca_c + b\n",
    "\n",
    "    # Iteratively place the fourth atom based on the last three atoms.\n",
    "\n",
    "    coords = [a, b, c]\n",
    "    # cycle through [n, ca, c, n, ca, c, ...]\n",
    "    for i, bond_length in enumerate([c_n, n_ca, ca_c] * (len(angles) - 1)):\n",
    "        torsion, bond_angle = torsions[i], bond_angles[i]\n",
    "        d = place_fourth_atom(a, b, c, bond_angle, torsion, bond_length)\n",
    "        coords.append(d)\n",
    "\n",
    "        a, b, c = b, c, d\n",
    "    \n",
    "    return np.array(coords)"
   ]
  },
  {
   "cell_type": "code",
   "execution_count": 41,
   "metadata": {},
   "outputs": [],
   "source": [
    "traj = torch.load('../test_64res.pt')"
   ]
  },
  {
   "cell_type": "code",
   "execution_count": 42,
   "metadata": {},
   "outputs": [
    {
     "name": "stderr",
     "output_type": "stream",
     "text": [
      "1001it [00:30, 32.80it/s]\n"
     ]
    }
   ],
   "source": [
    "for i, angles in tqdm(enumerate(traj)):\n",
    "    coords = angles2coord(angles)\n",
    "    num_residues = len(coords) // 3\n",
    "    \n",
    "    structure = struc.AtomArray(len(coords))\n",
    "    structure.coord = coords\n",
    "    structure.atom_name = ['N', 'CA', 'C'] * (num_residues)\n",
    "    structure.res_name = ['GLY'] * (len(coords))\n",
    "    structure.res_id = np.repeat( range(1, num_residues + 1), 3 )\n",
    "    \n",
    "    pdb = PDBFile()\n",
    "    pdb.set_structure(structure)\n",
    "    pdb.write(f'denoising_demo/model_{i}.pdb')"
   ]
  }
 ],
 "metadata": {
  "kernelspec": {
   "display_name": "torch",
   "language": "python",
   "name": "torch"
  },
  "language_info": {
   "codemirror_mode": {
    "name": "ipython",
    "version": 3
   },
   "file_extension": ".py",
   "mimetype": "text/x-python",
   "name": "python",
   "nbconvert_exporter": "python",
   "pygments_lexer": "ipython3",
   "version": "3.10.10"
  }
 },
 "nbformat": 4,
 "nbformat_minor": 4
}
